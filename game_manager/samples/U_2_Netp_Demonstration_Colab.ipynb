{
  "cells": [
    {
      "cell_type": "markdown",
      "metadata": {
        "id": "9MWXYKyFJtbB"
      },
      "source": [
        "# U-2-NETp DEMONSTRATION\n",
        "\n",
        "**Using U-2-NETp for :**\n",
        " - **Background Removal**\n",
        " - **Bounding Box Creation**\n",
        " - **Salient Feature Highlighting**\n",
        "\n",
        "\n",
        " U-2-NET Paper: [U2-Net: Going Deeper with Nested U-Structure for Salient Object Detection](https://arxiv.org/abs/2005.09007)\n",
        "\n",
        " Original Repo: [U-2-Net Github repo](https://github.com/NathanUA/U-2-Net)\n",
        "\n",
        "References: X. Qin, Z. Zhang, C. Huang, M. Dehghan, O. R. Zaiane, and M. Jagersand, “U2-net: Going deeper with nested u-structure for salient object\n",
        "detection,” Pattern Recognition, vol. 106, p. 107404, 2020"
      ]
    },
    {
      "cell_type": "markdown",
      "metadata": {
        "id": "Rmyly5RqLynM"
      },
      "source": [
        "# SETUP\n",
        "\n",
        "- Clone github repo: [https://github.com/shreyas-bk/U-2-Net](https://github.com/shreyas-bk/U-2-Net)\n",
        "- Make directories for images\n",
        "- Import necessary packages\n",
        "\n",
        "Note: Uses U-2-Netp with 4.7MB weights, not U-2-Net with 176.3MB"
      ]
    },
    {
      "cell_type": "markdown",
      "metadata": {
        "id": "ochl_AqPOzQW"
      },
      "source": [
        "# Recommended: Change Runtime to GPU (code works on CPU setting as well)\n",
        "**Runtime -> Change Runtime Type -> Hardware Accelerator -> GPU**"
      ]
    },
    {
      "cell_type": "code",
      "execution_count": null,
      "metadata": {},
      "outputs": [],
      "source": [
        "!pip install torch torchvision torchaudio --index-url https://download.pytorch.org/whl/cpu\n"
      ]
    },
    {
      "cell_type": "code",
      "execution_count": 7,
      "metadata": {},
      "outputs": [
        {
          "name": "stdout",
          "output_type": "stream",
          "text": [
            "Collecting scikit-image\n",
            "  Using cached scikit_image-0.24.0-cp312-cp312-manylinux_2_17_x86_64.manylinux2014_x86_64.whl.metadata (14 kB)\n",
            "Requirement already satisfied: numpy>=1.23 in /home/morteza/miniconda3/lib/python3.12/site-packages (from scikit-image) (1.26.4)\n",
            "Requirement already satisfied: scipy>=1.9 in /home/morteza/miniconda3/lib/python3.12/site-packages (from scikit-image) (1.13.1)\n",
            "Collecting networkx>=2.8 (from scikit-image)\n",
            "  Using cached networkx-3.3-py3-none-any.whl.metadata (5.1 kB)\n",
            "Requirement already satisfied: pillow>=9.1 in /home/morteza/miniconda3/lib/python3.12/site-packages (from scikit-image) (10.3.0)\n",
            "Collecting imageio>=2.33 (from scikit-image)\n",
            "  Using cached imageio-2.34.2-py3-none-any.whl.metadata (4.9 kB)\n",
            "Collecting tifffile>=2022.8.12 (from scikit-image)\n",
            "  Using cached tifffile-2024.7.2-py3-none-any.whl.metadata (30 kB)\n",
            "Requirement already satisfied: packaging>=21 in /home/morteza/.local/lib/python3.12/site-packages (from scikit-image) (24.0)\n",
            "Collecting lazy-loader>=0.4 (from scikit-image)\n",
            "  Using cached lazy_loader-0.4-py3-none-any.whl.metadata (7.6 kB)\n",
            "Using cached scikit_image-0.24.0-cp312-cp312-manylinux_2_17_x86_64.manylinux2014_x86_64.whl (15.0 MB)\n",
            "Downloading imageio-2.34.2-py3-none-any.whl (313 kB)\n",
            "\u001b[2K   \u001b[38;2;114;156;31m━━━━━━━━━━━━━━━━━━━━━━━━━━━━━━━━━━━━━━━\u001b[0m \u001b[32m313.5/313.5 kB\u001b[0m \u001b[31m189.4 kB/s\u001b[0m eta \u001b[36m0:00:00\u001b[0m[36m0:00:01\u001b[0mm eta \u001b[36m0:00:01\u001b[0m\n",
            "\u001b[?25hDownloading lazy_loader-0.4-py3-none-any.whl (12 kB)\n",
            "Downloading networkx-3.3-py3-none-any.whl (1.7 MB)\n",
            "\u001b[2K   \u001b[38;2;114;156;31m━━━━━━━━━━━━━━━━━━━━━━━━━━━━━━━━━━━━━━━━\u001b[0m \u001b[32m1.7/1.7 MB\u001b[0m \u001b[31m430.7 kB/s\u001b[0m eta \u001b[36m0:00:00\u001b[0mm eta \u001b[36m0:00:01\u001b[0m0:01\u001b[0m:01\u001b[0m\n",
            "\u001b[?25hDownloading tifffile-2024.7.2-py3-none-any.whl (225 kB)\n",
            "\u001b[2K   \u001b[38;2;114;156;31m━━━━━━━━━━━━━━━━━━━━━━━━━━━━━━━━━━━━━━━\u001b[0m \u001b[32m225.9/225.9 kB\u001b[0m \u001b[31m488.2 kB/s\u001b[0m eta \u001b[36m0:00:00\u001b[0mm eta \u001b[36m0:00:01\u001b[0m[36m0:00:01\u001b[0m\n",
            "\u001b[?25hInstalling collected packages: tifffile, networkx, lazy-loader, imageio, scikit-image\n",
            "Successfully installed imageio-2.34.2 lazy-loader-0.4 networkx-3.3 scikit-image-0.24.0 tifffile-2024.7.2\n",
            "Note: you may need to restart the kernel to use updated packages.\n"
          ]
        }
      ],
      "source": [
        "pip install scikit-image"
      ]
    },
    {
      "cell_type": "code",
      "execution_count": 2,
      "metadata": {
        "colab": {
          "base_uri": "https://localhost:8080/"
        },
        "id": "bYc-cGOVxuXj",
        "outputId": "d2ac53be-ca8c-4a87-82d5-c0d2125ea06d"
      },
      "outputs": [
        {
          "name": "stdout",
          "output_type": "stream",
          "text": [
            "Cloning into 'U-2-Net'...\n",
            "^C\n",
            "[Errno 2] No such file or directory: 'U-2-Net'\n",
            "/home/morteza/Desktop/game_array/U-2-Net\n",
            "making images directory\n"
          ]
        },
        {
          "name": "stderr",
          "output_type": "stream",
          "text": [
            "/home/morteza/.local/lib/python3.12/site-packages/IPython/core/magics/osm.py:393: UserWarning: This is now an optional IPython functionality, using bookmarks requires you to install the `pickleshare` library.\n",
            "  bkms = self.shell.db.get('bookmarks', {})\n"
          ]
        },
        {
          "name": "stdout",
          "output_type": "stream",
          "text": [
            "mkdir: cannot create directory ‘images’: File exists\n",
            "making results directory\n",
            "mkdir: cannot create directory ‘results’: File exists\n",
            "importing...\n"
          ]
        }
      ],
      "source": [
        "#@title Run this cell for setups{display-mode: \"form\"}\n",
        "# %cd /content\n",
        "# !/usr/local/cuda/bin/nvcc --version\n",
        "!git clone https://github.com/shreyas-bk/U-2-Net\n",
        "%cd U-2-Net\n",
        "print('making images directory')\n",
        "!mkdir images\n",
        "print('making results directory')\n",
        "!mkdir results\n",
        "print('importing...')\n",
        "# # from google.colab import files\n",
        "# import os\n",
        "# from tensorflow.keras.preprocessing.image import load_img\n",
        "# from tensorflow.keras.preprocessing.image import img_to_array\n",
        "# import numpy as np\n",
        "# from PIL import Image as Img\n",
        "# import cv2\n",
        "# # from google.colab.patches import cv2_imshow\n",
        "# print('Done!')"
      ]
    },
    {
      "cell_type": "code",
      "execution_count": 3,
      "metadata": {},
      "outputs": [
        {
          "name": "stderr",
          "output_type": "stream",
          "text": [
            "2024-07-07 22:12:24.673927: I external/local_tsl/tsl/cuda/cudart_stub.cc:32] Could not find cuda drivers on your machine, GPU will not be used.\n",
            "2024-07-07 22:12:24.858034: I external/local_tsl/tsl/cuda/cudart_stub.cc:32] Could not find cuda drivers on your machine, GPU will not be used.\n",
            "2024-07-07 22:12:25.095824: E external/local_xla/xla/stream_executor/cuda/cuda_fft.cc:479] Unable to register cuFFT factory: Attempting to register factory for plugin cuFFT when one has already been registered\n",
            "2024-07-07 22:12:25.327369: E external/local_xla/xla/stream_executor/cuda/cuda_dnn.cc:10575] Unable to register cuDNN factory: Attempting to register factory for plugin cuDNN when one has already been registered\n",
            "2024-07-07 22:12:25.328946: E external/local_xla/xla/stream_executor/cuda/cuda_blas.cc:1442] Unable to register cuBLAS factory: Attempting to register factory for plugin cuBLAS when one has already been registered\n",
            "2024-07-07 22:12:25.670949: I tensorflow/core/platform/cpu_feature_guard.cc:210] This TensorFlow binary is optimized to use available CPU instructions in performance-critical operations.\n",
            "To enable the following instructions: AVX2 FMA, in other operations, rebuild TensorFlow with the appropriate compiler flags.\n",
            "2024-07-07 22:12:27.547154: W tensorflow/compiler/tf2tensorrt/utils/py_utils.cc:38] TF-TRT Warning: Could not find TensorRT\n"
          ]
        },
        {
          "name": "stdout",
          "output_type": "stream",
          "text": [
            "Done!\n"
          ]
        }
      ],
      "source": [
        "# from google.colab import files\n",
        "import os\n",
        "from tensorflow.keras.preprocessing.image import load_img\n",
        "from tensorflow.keras.preprocessing.image import img_to_array\n",
        "import numpy as np\n",
        "from PIL import Image as Img\n",
        "import cv2\n",
        "# from google.colab.patches import cv2_imshow\n",
        "print('Done!')"
      ]
    },
    {
      "cell_type": "markdown",
      "metadata": {
        "id": "DeMM5rG2MJ5K"
      },
      "source": [
        "# UPLOAD IMAGES"
      ]
    },
    {
      "cell_type": "code",
      "execution_count": 4,
      "metadata": {
        "colab": {
          "base_uri": "https://localhost:8080/",
          "height": 146
        },
        "id": "7UCKcKAqFVKB",
        "outputId": "d084b898-6cc3-41db-85c7-ee9178bf9546"
      },
      "outputs": [
        {
          "name": "stdout",
          "output_type": "stream",
          "text": [
            "[Errno 2] No such file or directory: '/U-2-Net/images'\n",
            "/home/morteza/Desktop/game_array/U-2-Net\n",
            "[Errno 2] No such file or directory: '/content/U-2-Net'\n",
            "/home/morteza/Desktop/game_array/U-2-Net\n"
          ]
        },
        {
          "name": "stderr",
          "output_type": "stream",
          "text": [
            "/home/morteza/.local/lib/python3.12/site-packages/IPython/core/magics/osm.py:393: UserWarning: This is now an optional IPython functionality, using bookmarks requires you to install the `pickleshare` library.\n",
            "  bkms = self.shell.db.get('bookmarks', {})\n"
          ]
        }
      ],
      "source": [
        "#@title Run this cell to upload images{display-mode: \"form\"}\n",
        "%cd /U-2-Net/images\n",
        "# uploaded = files.upload()\n",
        "%cd /content/U-2-Net"
      ]
    },
    {
      "cell_type": "markdown",
      "metadata": {
        "id": "YsVaGN8fMO8p"
      },
      "source": [
        "# RESULTS\n",
        " - Run u2net_test.py\n",
        " - Remove Background\n",
        " - Create Bounding Box\n",
        " - Highlight Salient Features"
      ]
    },
    {
      "cell_type": "code",
      "execution_count": 5,
      "metadata": {},
      "outputs": [
        {
          "name": "stdout",
          "output_type": "stream",
          "text": [
            "[Errno 2] No such file or directory: 'U-2-Net'\n",
            "/home/morteza/Desktop/game_array/U-2-Net\n"
          ]
        }
      ],
      "source": [
        "cd U-2-Net"
      ]
    },
    {
      "cell_type": "code",
      "execution_count": 51,
      "metadata": {},
      "outputs": [
        {
          "data": {
            "text/plain": [
              "['1', '2']"
            ]
          },
          "execution_count": 51,
          "metadata": {},
          "output_type": "execute_result"
        }
      ],
      "source": [
        "names"
      ]
    },
    {
      "cell_type": "code",
      "execution_count": 10,
      "metadata": {
        "colab": {
          "base_uri": "https://localhost:8080/",
          "height": 290
        },
        "id": "HSt4wakMS-wc",
        "outputId": "49954ab3-4659-406c-87f3-050dbff245d6"
      },
      "outputs": [
        {
          "name": "stdout",
          "output_type": "stream",
          "text": [
            "\n",
            "INPUT  BACKGROUND REMOVED    BOUNDING BOX               SALIENT MAP\n",
            "\n"
          ]
        },
        {
          "data": {
            "image/png": "[encoded data removed]",
            "text/plain": [
              "<PIL.Image.Image image mode=RGBA size=184x46>"
            ]
          },
          "metadata": {},
          "output_type": "display_data"
        },
        {
          "name": "stdout",
          "output_type": "stream",
          "text": [
            "\n",
            "INPUT  BACKGROUND REMOVED    BOUNDING BOX               SALIENT MAP\n",
            "\n"
          ]
        },
        {
          "data": {
            "image/png": "[encoded data removed]",
            "text/plain": [
              "<PIL.Image.Image image mode=RGBA size=184x46>"
            ]
          },
          "metadata": {},
          "output_type": "display_data"
        }
      ],
      "source": [
        "#@title Run this cell for results{display-mode: \"form\"}\n",
        "\n",
        "# This code will be hidden when the notebook is loaded.\n",
        "\n",
        "# !python -W ignore u2net_test.py\n",
        "\n",
        "image_dir = os.path.join(os.getcwd(), 'images')\n",
        "names = [name[:-4] for name in os.listdir(image_dir)]\n",
        "THRESHOLD = 0.9\n",
        "RESCALE = 255\n",
        "LAYER = 2\n",
        "COLOR = (0, 0, 0)\n",
        "THICKNESS = 4\n",
        "SAL_SHIFT = 100\n",
        "\n",
        "\n",
        "for name in names:\n",
        "\n",
        "  # BACKGROUND REMOVAL\n",
        "\n",
        "  if name == '.ipynb_checkpo':\n",
        "    continue\n",
        "  output = load_img('/home/morteza/Desktop/game_array/U-2-Net/results/'+name+'.png')\n",
        "  out_img = img_to_array(output)\n",
        "  out_img /= RESCALE\n",
        "\n",
        "  out_img[out_img > THRESHOLD] = 1\n",
        "  out_img[out_img <= THRESHOLD] = 0\n",
        "\n",
        "  shape = out_img.shape\n",
        "  a_layer_init = np.ones(shape = (shape[0],shape[1],1))\n",
        "  mul_layer = np.expand_dims(out_img[:,:,0],axis=2)\n",
        "  a_layer = mul_layer*a_layer_init\n",
        "  rgba_out = np.append(out_img,a_layer,axis=2)\n",
        "\n",
        "  # input = load_img('/content/U-2-Net/images/'+name+'.png')\n",
        "  input = load_img('/home/morteza/Desktop/game_array/U-2-Net/images/'+name+'.png')\n",
        "\n",
        "  inp_img = img_to_array(input)\n",
        "  inp_img /= RESCALE\n",
        "\n",
        "  a_layer = np.ones(shape = (shape[0],shape[1],1))\n",
        "  rgba_inp = np.append(inp_img,a_layer,axis=2)\n",
        "\n",
        "  rem_back = (rgba_inp*rgba_out)\n",
        "  rem_back_scaled = rem_back*RESCALE\n",
        "\n",
        "  # BOUNDING BOX CREATION\n",
        "\n",
        "  out_layer = out_img[:,:,LAYER]\n",
        "  x_starts = [np.where(out_layer[i]==1)[0][0] if len(np.where(out_layer[i]==1)[0])!=0 else out_layer.shape[0]+1 for i in range(out_layer.shape[0])]\n",
        "  x_ends = [np.where(out_layer[i]==1)[0][-1] if len(np.where(out_layer[i]==1)[0])!=0 else 0 for i in range(out_layer.shape[0])]\n",
        "  y_starts = [np.where(out_layer.T[i]==1)[0][0] if len(np.where(out_layer.T[i]==1)[0])!=0 else out_layer.T.shape[0]+1 for i in range(out_layer.T.shape[0])]\n",
        "  y_ends = [np.where(out_layer.T[i]==1)[0][-1] if len(np.where(out_layer.T[i]==1)[0])!=0 else 0 for i in range(out_layer.T.shape[0])]\n",
        "\n",
        "  startx = min(x_starts)\n",
        "  endx = max(x_ends)\n",
        "  starty = min(y_starts)\n",
        "  endy = max(y_ends)\n",
        "  start = (startx,starty)\n",
        "  end = (endx,endy)\n",
        "\n",
        "  box_img = inp_img.copy()\n",
        "  box_img = cv2.rectangle(box_img, start, end, COLOR, THICKNESS)\n",
        "  box_img = np.append(box_img,a_layer,axis=2)\n",
        "  box_img_scaled = box_img*RESCALE\n",
        "\n",
        "  # SALIENT FEATURE MAP\n",
        "\n",
        "  sal_img = inp_img.copy()\n",
        "  add_layer = out_img.copy()\n",
        "  add_layer[add_layer==1] = SAL_SHIFT/RESCALE\n",
        "  sal_img[:,:,LAYER] += add_layer[:,:,LAYER]\n",
        "  sal_img = np.append(sal_img,a_layer,axis=2)\n",
        "  sal_img_scaled = sal_img*RESCALE\n",
        "  sal_img_scaled[sal_img_scaled>RESCALE] = RESCALE\n",
        "\n",
        "  # OUTPUT RESULTS\n",
        "\n",
        "  inp_img*=RESCALE\n",
        "  inp_img = np.append(inp_img,RESCALE*a_layer,axis=2)\n",
        "  inp_img = cv2.resize(inp_img,(int(shape[1]/3),int(shape[0]/3)))\n",
        "  rem_back = cv2.resize(rem_back_scaled,(int(shape[1]/3),int(shape[0]/3)))\n",
        "  box_img = cv2.resize(box_img_scaled,(int(shape[1]/3),int(shape[0]/3)))\n",
        "  sal_img = cv2.resize(sal_img_scaled,(int(shape[1]/3),int(shape[0]/3)))\n",
        "  result = np.concatenate((inp_img,rem_back,box_img,sal_img),axis=1)\n",
        "  result_img = Img.fromarray(result.astype('uint8'), 'RGBA')\n",
        "  print('\\nINPUT  BACKGROUND REMOVED    BOUNDING BOX               SALIENT MAP\\n')\n",
        "  display(result_img)"
      ]
    },
    {
      "cell_type": "code",
      "execution_count": null,
      "metadata": {},
      "outputs": [],
      "source": []
    }
  ],
  "metadata": {
    "accelerator": "GPU",
    "colab": {
      "name": "U-2-Netp Demonstration Colab.ipynb",
      "provenance": []
    },
    "kernelspec": {
      "display_name": "Python 3",
      "name": "python3"
    },
    "language_info": {
      "codemirror_mode": {
        "name": "ipython",
        "version": 3
      },
      "file_extension": ".py",
      "mimetype": "text/x-python",
      "name": "python",
      "nbconvert_exporter": "python",
      "pygments_lexer": "ipython3",
      "version": "3.12.2"
    }
  },
  "nbformat": 4,
  "nbformat_minor": 0
}
