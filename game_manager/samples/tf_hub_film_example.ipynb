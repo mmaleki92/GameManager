{
  "cells": [
    {
      "cell_type": "markdown",
      "metadata": {
        "id": "qNLUPuRpkFv_"
      },
      "source": [
        "##### Copyright 2022 The TensorFlow Hub Authors.\n",
        "\n",
        "Licensed under the Apache License, Version 2.0 (the \"License\");"
      ]
    },
    {
      "cell_type": "code",
      "execution_count": null,
      "metadata": {
        "cellView": "form",
        "id": "DQcWZm0FkPk-"
      },
      "outputs": [],
      "source": [
        "#@title Copyright 2022 The TensorFlow Hub Authors. All Rights Reserved.\n",
        "#\n",
        "# Licensed under the Apache License, Version 2.0 (the \"License\");\n",
        "# you may not use this file except in compliance with the License.\n",
        "# You may obtain a copy of the License at\n",
        "#\n",
        "#     http://www.apache.org/licenses/LICENSE-2.0\n",
        "#\n",
        "# Unless required by applicable law or agreed to in writing, software\n",
        "# distributed under the License is distributed on an \"AS IS\" BASIS,\n",
        "# WITHOUT WARRANTIES OR CONDITIONS OF ANY KIND, either express or implied.\n",
        "# See the License for the specific language governing permissions and\n",
        "# limitations under the License.\n",
        "# =============================================================================="
      ]
    },
    {
      "cell_type": "markdown",
      "metadata": {
        "id": "Exbxve1rHlrF"
      },
      "source": [
        "# Frame interpolation using the FILM model\n"
      ]
    },
    {
      "cell_type": "markdown",
      "metadata": {
        "id": "jMWFVTlbrQ8m"
      },
      "source": [
        "<table class=\"tfo-notebook-buttons\" align=\"left\">\n",
        "  <td>\n",
        "    <a target=\"_blank\" href=\"https://www.tensorflow.org/hub/tutorials/tf_hub_film_example\"><img src=\"https://www.tensorflow.org/images/tf_logo_32px.png\" />View on TensorFlow.org</a>\n",
        "  </td>\n",
        "  <td>\n",
        "    <a target=\"_blank\" href=\"https://colab.research.google.com/github/tensorflow/docs/blob/master/site/en/hub/tutorials/tf_hub_film_example.ipynb\"><img src=\"https://www.tensorflow.org/images/colab_logo_32px.png\" />Run in Google Colab</a>\n",
        "  </td>\n",
        "  <td>\n",
        "    <a target=\"_blank\" href=\"https://github.com/tensorflow/docs/blob/master/site/en/hub/tutorials/tf_hub_film_example.ipynb\"><img src=\"https://www.tensorflow.org/images/GitHub-Mark-32px.png\" />View on GitHub</a>\n",
        "  </td>\n",
        "  <td>\n",
        "    <a href=\"https://storage.googleapis.com/tensorflow_docs/docs/site/en/hub/tutorials/tf_hub_film_example.ipynb\"><img src=\"https://www.tensorflow.org/images/download_logo_32px.png\" />Download notebook</a>\n",
        "  </td>\n",
        "  <td>\n",
        "    <a href=\"https://tfhub.dev/google/film/1\"><img src=\"https://www.tensorflow.org/images/hub_logo_32px.png\" />See TF Hub model</a>\n",
        "  </td>\n",
        "</table>"
      ]
    },
    {
      "cell_type": "markdown",
      "metadata": {
        "id": "61H28S7ArUAZ"
      },
      "source": [
        "Frame interpolation is the task of synthesizing many in-between images from a given set of images. The technique is often used for frame rate upsampling or creating slow-motion video effects.\n",
        "\n",
        "In this colab, you will use the FILM model to do frame interpolation. The colab also provides code snippets to create videos from the interpolated in-between images.\n",
        "\n",
        "For more information on FILM research, you can read more here:\n",
        "- Google AI Blog: [Large Motion Frame Interpolation](https://ai.googleblog.com/2022/10/large-motion-frame-interpolation.html)\n",
        "- Project Page: FILM: [Frame Interpolation for Large Motion](https://film-net.github.io/)\n"
      ]
    },
    {
      "cell_type": "markdown",
      "metadata": {
        "id": "dVX7s6zMulsu"
      },
      "source": [
        "## Setup"
      ]
    },
    {
      "cell_type": "code",
      "execution_count": null,
      "metadata": {
        "colab": {
          "base_uri": "https://localhost:8080/"
        },
        "id": "oi5t2OEJsGBW",
        "outputId": "8fd81169-05e5-4d9a-9e4f-fae74b9d967e"
      },
      "outputs": [],
      "source": [
        "!pip install mediapy\n",
        "!sudo apt-get install -y ffmpeg"
      ]
    },
    {
      "cell_type": "code",
      "execution_count": null,
      "metadata": {},
      "outputs": [],
      "source": [
        "pip install tensorflow-hub"
      ]
    },
    {
      "cell_type": "code",
      "execution_count": 6,
      "metadata": {
        "id": "BA1tq39MjOiF"
      },
      "outputs": [],
      "source": [
        "import tensorflow as tf\n",
        "import tensorflow_hub as hub\n",
        "\n",
        "import requests\n",
        "import numpy as np\n",
        "\n",
        "from typing import Generator, Iterable, List, Optional\n",
        "import mediapy as media"
      ]
    },
    {
      "cell_type": "markdown",
      "metadata": {
        "id": "GTgXmeYGnT7q"
      },
      "source": [
        "## Load the model from TFHub\n",
        "\n",
        "To load a model from TensorFlow Hub you need the tfhub library and the model handle which is its documentation url."
      ]
    },
    {
      "cell_type": "code",
      "execution_count": 8,
      "metadata": {
        "id": "GojhvyAtjUt0"
      },
      "outputs": [],
      "source": [
        "model = hub.load(\"film-tensorflow2-film-v1\")"
      ]
    },
    {
      "cell_type": "markdown",
      "metadata": {
        "id": "DOQJPsu2CwPk"
      },
      "source": [
        "## Util function to load images from a url or locally\n",
        "\n",
        "This function loads an image and make it ready to be used by the model later."
      ]
    },
    {
      "cell_type": "code",
      "execution_count": 9,
      "metadata": {
        "id": "BPnh5uhQvFln"
      },
      "outputs": [],
      "source": [
        "_UINT8_MAX_F = float(np.iinfo(np.uint8).max)\n",
        "\n",
        "def load_image(img_url: str):\n",
        "  \"\"\"Returns an image with shape [height, width, num_channels], with pixels in [0..1] range, and type np.float32.\"\"\"\n",
        "\n",
        "  if (img_url.startswith(\"https\")):\n",
        "    user_agent = {'User-agent': 'Colab Sample (https://tensorflow.org)'}\n",
        "    response = requests.get(img_url, headers=user_agent)\n",
        "    image_data = response.content\n",
        "  else:\n",
        "    image_data = tf.io.read_file(img_url)\n",
        "\n",
        "  image = tf.io.decode_image(image_data, channels=3)\n",
        "  image_numpy = tf.cast(image, dtype=tf.float32).numpy()\n",
        "  return image_numpy / _UINT8_MAX_F\n"
      ]
    },
    {
      "cell_type": "markdown",
      "metadata": {
        "id": "yjDFns1zp5y6"
      },
      "source": [
        "FILM's model input is a dictionary with the keys `time`, `x0`, `x1`:\n",
        "\n",
        "- `time`: position of the interpolated frame. Midway is `0.5`.\n",
        "- `x0`: is the initial frame.\n",
        "- `x1`: is the final frame.\n",
        "\n",
        "Both frames need to be normalized (done in the function `load_image` above) where each pixel is in the range of `[0..1]`.\n",
        "\n",
        "`time` is a value between `[0..1]` and it says where the generated image should be. 0.5 is midway between the input images.\n",
        "\n",
        "All three values need to have a batch dimension too."
      ]
    },
    {
      "cell_type": "code",
      "execution_count": 11,
      "metadata": {
        "id": "VEQNQlHGsWSM"
      },
      "outputs": [],
      "source": [
        "# using images from the FILM repository (https://github.com/google-research/frame-interpolation/)\n",
        "\n",
        "image_1_url = \"1.png\"#\"https://github.com/google-research/frame-interpolation/blob/main/photos/one.png?raw=true\"\n",
        "image_2_url = \"2.png\"#\"https://github.com/google-research/frame-interpolation/blob/main/photos/two.png?raw=true\"\n",
        "\n",
        "time = np.array([0.5], dtype=np.float32)\n",
        "\n",
        "image1 = load_image(image_1_url)\n",
        "image2 = load_image(image_2_url)"
      ]
    },
    {
      "cell_type": "code",
      "execution_count": 13,
      "metadata": {
        "id": "r6_MQE9EuF_K"
      },
      "outputs": [],
      "source": [
        "input = {\n",
        "    'time': np.expand_dims(time, axis=0), # adding the batch dimension to the time\n",
        "     'x0': np.expand_dims(image1, axis=0), # adding the batch dimension to the image\n",
        "     'x1': np.expand_dims(image2, axis=0)  # adding the batch dimension to the image\n",
        "}\n",
        "mid_frame = model(input)"
      ]
    },
    {
      "cell_type": "markdown",
      "metadata": {
        "id": "nZkzYE2bptfD"
      },
      "source": [
        "The model outputs a couple of results but what you'll use here is the `image` key, whose value is the interpolated frame."
      ]
    },
    {
      "cell_type": "code",
      "execution_count": 14,
      "metadata": {
        "colab": {
          "base_uri": "https://localhost:8080/"
        },
        "id": "eClVbNFhA5Py",
        "outputId": "ea82fc2b-0706-4999-84ab-f1ab59b6ee9c"
      },
      "outputs": [
        {
          "name": "stdout",
          "output_type": "stream",
          "text": [
            "dict_keys(['forward_flow_pyramid', 'image', 'x1_warped', 'backward_flow_pyramid', 'backward_residual_flow_pyramid', 'x0_warped', 'forward_residual_flow_pyramid'])\n"
          ]
        }
      ],
      "source": [
        "print(mid_frame.keys())"
      ]
    },
    {
      "cell_type": "code",
      "execution_count": 15,
      "metadata": {
        "colab": {
          "base_uri": "https://localhost:8080/",
          "height": 290
        },
        "id": "rE2csH3u8ePe",
        "outputId": "410f8e0d-0325-46a1-cf80-800120fe21cf"
      },
      "outputs": [
        {
          "data": {
            "text/html": [
              "<table class=\"show_images\" style=\"border-spacing:0px;\"><tr><td style=\"padding:1px;\"><div style=\"display:flex; align-items:left;\">\n",
              "      <div style=\"display:flex; flex-direction:column; align-items:center;\">\n",
              "      <div>input image one</div><div><img width=\"250\" height=\"250\" style=\"image-rendering:pixelated; object-fit:cover;\" src=\"data:image/png;base64,iVBORw0KGgoAAAANSUhEUgAAAIwAAACMCAIAAAAhotZpAAAgXElEQVR4nO2ceZRkVZ3nf79779sjMiJyr8yslSqqECgsEQQHRxgBZVQEaWylUTk4bbtNqz3dp3scW7qP3Tpnpm27PTMuoK2to2O344bYCLIIFBRLFVAUta9ZlfsSGREZEW+99zd/vNgyK1kiq0DR9zl58ryI9959993v+93f7/7ufQGQkJCQkJCQkJCQkJCQkJCQkJCQkJCQkJCQkJCQkJCQkJCQkJCQkJCQkJCQkJCQkJCQkJCQkPBbC56WUroya009XSyPld2Z01JgQiunQaSV/ZtvvvmmdWesvu+ebQ8++EDFLTT3EQAAEUgZ5OeHT/1av5ucqkgr+zd/7KMff/8Hruntz+1+Znjv7gOeX6b6XiICAiKYnSn8023fn84PA9SVq28UKici6dc+JCzFKYnUlVnzyU/82fv+0+91dneEQSCltC3LNIx4L9WbnYjmS+6v7nm6UJqINYv3EgEBfPqWj5PvAHCpokVKeWGh4k2fSg1/OxCncrJl5l53yeaevpyUEgA834+UCsLw5CO5xt7+zosBIRapoRARjIzvgTCLIKQMqUVaANi/b/+2bQ/Pl5fwcyV39FRq/srilESyzQxDoXOOQoBhaEJ4QRBJudSxUlVV40PDmADgjz/xCdMwOeNUMy9q9IR7njn+4L2XzRXHTi7uu//ne/nCyJK18sJiEJVP5b5+01i+SGm7/8Yb37P+jLWMsbhhbcuyLWvJg6VSxfn5JXd5vq+UZJxDXZ7G/zVndp2x6SrTMKnFjcWW1t+zfmL6UFxCq/EBwvYntj/99OOev1inSPlV/xUZfC7fJ61ZcdH9D/+/NWsHAWrNuzyqrusHgWrYT0tJYRhKpWzLacQa9esQKXLsFCw0ypjHtu57fNv2qltcdKGxsbF/u/Mnk/n9y67qr4vlW5JlOYyxU69BbH8tUUZ9A8D1vHK1EoQ+UMOEarhuVde1xrdE0DjmgtdvuOgNmxZdBRGOHByPfO3HP7+17E6derVfTpYpkmVkL7v0TY5jw6mZURNcIgi3DNM0TACASpnGhkESYO2oma7eSnWJ/jOKItOwDN2kZrWQc2bo+oZNgzf94Tu3P7pz78jPTkOFX0aWKVJvbuOfffp9nV0dp7c2S1Mt444H+f13kFRABIwBUddnvrJkV12tVvzAK1fniYhIIWOMcc6ZlCEViuHOHVB+hZkRLFskhggAiKcnqwQnGRK1fA9jwyxWKL4c1YZauPDIGNt2bNtZUDKi57njU+P4xDb5lVu04vjpqvPLxnKdCoPTJ9ACsFqG/DRUyotFQ2zIA7rZVpmmafV293GhAZ4GJ/rys0xLElyLzej0OKRWg3jgTth2H2y+kC59a/wtFgsAAEoBACCCbtLG18ASLuw5yyYCy7T7Onv2+cFpqe3LzDJF6us6gzPtdFakEUkrBVLijodxx8PNnfGjwBgQUYcVXPNeBADVOA8YWyjaSVaOCIwtFZy8ElhOn7Vh6LK7H/zOqY+QGjTHqrf/X3jolzWjadYRF/R1jMFJF/U/+Xno7mu9GaqfF5cfRVQu0SO/2vmpj99yYObnp17nl5PlWBITcaPRaQkcqGULhSDDgNbEEhFEUU2hWJ7nfiyW3BGfoRQslVN8ZbDM7i5W6PQ4pIYZAairroe3XE/N7wkOPMu+9Y8gZdOAdL15ru/XvomjzdZiWz4QESkAIgTQADe0PFsHT5NPfUlZjkgDPZsE11/4uBdBs4mWaKv6TmyGdtTZE978p41G1r/2NxSGwR98HLNdz3MJRIwlNjXzwr51n9ryehkEMgxJqf/y2K67fuN1aru/Wtnzuke239E/kPNlVCgUIilJKVIq5TjZjg4h2lC9kamjFmOqJ1iJAPDpR9ndP4L8TO0gZNTVG3zy81gfIuHcNBBQppM4X3xjLY4sCqk8T3NzYWnbo6tv/0KOyiqSKopUJCcr7vU7du8n8tttiJeRti1JQpDpcdwwsAyjt7OzkfAsu+7M3BwAKCJSSsUjfqWASNO0wf7+ReU0FTr5Y+PR9qpQnIttYQmHhECdPbXNk4yh8fTFDikICAg7TNat+dKvz4cQrR7sXT+7rlqZ8dSCGZZCebjsTcTbKbNfcKNQ+bVN/7ctkqk5pqYDAEcGommIaUTLMACadhD/D8Ow4rqzc3M12aimHhFxzrtynZxxgKWdPiJDISiWJ7YL/Tni/ueNruP0uRDMSGkIgIyRCuMCx95/yyeNtMcCtfD8n//koTvvuHN0ZhcAXHftu9et3XTbbbeNTO9or7FOE22LxJjgjCEiAbX2lUKI1r6uYRnKMEzDpFqOmoigPq8Hpcr8XKmI8cNOqi4gEZFl2R2ptNq4WXX2QIv9kKbjokB7SbBmSg0jdKtqdDTomYsGCKIglGEIRDII02+4eIvN476xteR169a947rLv/S/Pr/1V0+dueGc7hVaoXy83bY6XbQtEimojz5e1MiQIdO1JaIMAuBCEKmmE6r3dK7vhWFQKBUIUfWsaBogEEPW2VrK87rUWNooIt8lKenwod1f/uGXUlOTMgwBoCOdlpH4ohVPN8YiNfvIlau7B1d1p7J/+fW+b+bnj9mdvRXv1zZh2H50F8/cIDSi3sZcz1IB2nN8imNpsXTfpQkRRhE1HUdtUynlB17VLROQIgKiKJJEBIoIKJ3ONJ6GVocUheB5pBS6XnHn0d1SRlJKxliXhVJiLOQS4z0EhnD22a96/0037t2T37F9ZzttdJppW6SwQqWiQgaMAeeICMiAIXAOyOr32ggnYOEXL0R8mBCaENrJwhORHxqkqKEcw3jwREQQ+K7vVxUBUC2Pqgnd0G0iCEPwPQr8ekiPLJ1OE5FtO3EU2XL9Bc5NCHzNa87r74+eeWYnQxNRRGrpRQAvKW2LFLlULCjjx7da5BMDhuhfdjUNrGYcOac4RcbqyjEGsZwn0xp2L36OaemPCGhqz5n/9nxPyig269hler4bBIHGM54rd+3a/9DWHyolAYgxtCwrCIL33/QhzhddfPHjxBgODGgbz8quWb9eFx3HjxyTkWvrnQrDly3eW053F0Vg3PNTqswyTSPEcMMFYW4VADFW69k5A2Q1j80YMg412WoHACLGexe1UBxENIPyBZddcPDJ3VRtDhea33ueNzY2YutuGHZOTI7u3bcVEeOxLSJjjF199TUNkVpSFot1emL74088uX3DWWcKZmQzmb7erisuvXpydvyzf/txABjsfk0082R85DTRkkulTpHlpoWUkkGIjAFi7DGwMZkApOLWR4D6oJLzpmaIgIwaQtb+AOM+alGU1QAXrQpq1GSp6CHOrlqmFbhecWos29252tZuyNlKSiUlEAELbw9D29ZfRGGwb/+BZ/fsWbN6NSAOrenafM65N37g2umZ6Zn8QaloqPt8desn0bKQ4+2V9LGZo1IGADAPcLqShcsRCRGiS98hyyXkgnEW5frjUALr90iqqVDc6UdR3PTU0KAhD2uVigFrRMN1m2s9uLUOtY2F4tWqQAAAjp1CYDMz+UwXOztrXDfQEfm+CiOSasatEsmlApfFD4IiEJphmjYAAFGus3vz5i2GgYMDvV/4+3+IIgIA7pwAxybGNhRzh771OemVUBO/cu0DhdmqmweAKoC3jIaus0yRwus/JCMAIGQoODCoh3wEgM2GK02MjDzxS53xjd1DdPGb6jlZrCVsALA5BmrxPPX/raYWd5gtGmPdBGtVqp/drCQgZPLTzrGRyqDMMMYFlwEjqQAg4zifeOvbhFhkN0sMiREAayM1RMQV/UP//pLLGlfUNAQA+JP/phSRgv9IxDvL6Luo668tpffc89PqwSfQ0J+Yyj9dmC8DeADV9ht8md0dImga1Fs0voVabobqX5OC2WMHH/rKXzpcy7zq9b0X/Yf4Phs6xZzsXeKBMAFA/By0xoyepx3cCQhCcLliPfbkkAFnTcuLS45PYQhDhelg+PjYupncsX0qXscCQEpBLsc+8hcv5k5HRk4cOXxQcERkyAUTgrWstGheiyFjAIBw80fiXZdE6g2Duth7BnPs++574IEnd84wdiyMnixV8m22dtsiCTCEaHHvdWHiDERsQ/OTI6XRg0QwdXCnH8lAql+M7rtixwMD6S4681xkNZ0aLiA2rEbatAnWC4/3KJBT0+bn/pQIRMr233ULXfn65l4AcWw/rxSRIwyuZn19giMyhox1zBw+85nvS6mQMa6JKAiRc9dTHRkGC3rL5lajMr+46+4f/eSnG886C5hgXEeGQsNYBqmIIapanwCcYcPuEcHQGb3rBqAbFMGlZ/7gjVvvJyF+tmff3/7ivnybefe2RVIYICLj9XtrJnvqByg4uu3ux77xGYiTrQQAVJge++UtN12+dsvABz9F517AWGMuqtb1LWKRYI2VQmAY1ZWbxP6nmCZo4RhHRiS+dxs++xjX9fC9fxxdeQ3oNGenJlIZI1JKKkBgGuea4IbuGs7hA0Fvr4YIiqj5lCxMoygFumE76SwgB0DLsob6+zQNpSLGgACVJD9QioAh6BpjvO6FoaZZPCiGq6+nq6+XCqZv+/bxh/ZCeYnV7c9D26tnRqMHXZeUarp9zlEI5AIZx9jzCytt9a6yelbpmZ7GfMFc4P/i0I7SF/6imUKA2iPZ+hdDLY0VReS6SilSirCrp/LBz4TdQ152INDMKCClmmdFQRhWvdD1lZSxwo8GdC9iqtNynVzF6KgYmarTSYNrxdDK7h6UEUXxyEpBHKDCwgiFiIRuGrZNJKPQHezre/tV18W9MWfIGQiBjs3TDrdMjghKkR+Q66qqq0JJioAUqHrhgmN/14Z1Ky5pt82X45Oe2Rm+eotmmi0OCWp+HgA5h3Pe8q6zrrheERx77N67PnsjIiDXUr1DDOHn3H8PgFLAWvJ/9YVHS10MwfdoriD7V+DI2JSSUJyn6s1fzHWssCyGI2FPr+AcDIMBAOW6Vd8QGjpZTuzs/SBId6i1b7/Ivfxf4pkvIvJ9qeu4rtdYsMArrgi0GDhAqZgv5CdV4AGlgYAhCQ2kJKVqEwANOTmHeMil1YMRKUlKAoAwJCFQ05AhBWG1Um3XJS03cPB9EgIZb4xy6vcZe1EOjCMAOBmnc+UZKgp13bjuKw8umCknQKBFfV3jY6PniZ0cAuTnpm/4ow8BACnp++7t3/suEChSut47OkIDg5puoPzopyVBCMAYxtF1vlA8fHTqxHG34hWEQKGB4xATKiIcn4IoDFavWksEjMVXJSBAgImJCdd1fZ999Wtf3b5z+6o1a0kGBBIZCIFRREGgdH3ppmvI1ggdNQ3jewl80FhHb/fKY1N2ELYR5S1HJClpz+5w7VrR2cmEhshqQQDUe4wGg5svfvetW4ujxx76/E26jo2uj+rxRhznKdUI4RBbrRNBNd4MBOW7BSACGehC//0PfhQAAt//0TdvA+iORV2Y40FAUCqyrGh8dv+f/PX/EILLKPTdslsuMc4Zw/HhAwd3nuAcsp1M0wAAkIFS8OGPfHjrww9ncl2DQ0MrVvRzYRAToT+PoAwDpQLTFEq9WOdfDznBdVXv6o4rf29L/ltjew7f9eIbvG2RViLIWy/wpLq/4kVKaRzHS+7w3Pzmd37u7Df9EWOQybLBIWbZyOMknsCu1Wuv/vKvYoUYAjBoLDRSqjFB2Bz5tiZoEVERKAUklVctMWRKRRGRKE9HYUCERJIUKEkkFixeIiIifMuVH1i/Onr26W3jRx7XND1lZwTnaVuPa3D2lovffvP74iu6ldLooV3/+p1vfPlrt40Xos0XvFETaOmcSCrpA2AUhp7rNtv9+ecZW2iNTicmplG4H/jYdX/3ubHx6V0vss3bFqlEMFIpISLXUGfIEDf0O1sGO8XBr4cHvx4plY/kM0EYSsqB6C1DZeh848P/JAQaBq5bx+0Ui0emtbCV1265Zi4Ei6yqFuxKQCkrxSkAQMYNMy21ABCJUClQreOB1qYjYAhBQKV5JRgTpKRfUYhcmsg4kAq9CtcMUgoZZwDdPb0Expf/4bt//tlPnRg9bJgWciY0DkCIeNVbrv6Dd90g4yWBtRF386F4wYVTURSnzSIpI10IUm0k+doWyQe499CUVFQM1KVrOh2dAyCixxA5Qx7/52ho6DPJujLvyIb0rzdKpYIwnCyWxoulbDoVRtHe4eOZz96n9a9hDAYGeCbHhMA4VmwIFneMpGotoKREhiTJqxbiyphOF1EtwGsMCWIaAcB9W7//nR/8T00AKEmhK4k8r0JEAlF3spGMGONEhMiAcwLs7cfi+K5D+w6fc9756Y4OJSOSvlQeguSiVrpStaEhQO2xWLQEMe4dmh+BuICHHrnjkce2XnbZZUcPj6h2hkpti7R+9cVbnINEoAA8P6z6YSWUIx2rXD0V+mHVdT2vukHzL84iIsxXw6PFYqwfIpAiNEkn99r+s1Z2d7MH/14ik0q5oVf0q5mUXfG8ienZ6PI/1C6+hjHM5lh3DwMAUtDXM7jtgccAgAtQEqSiKIQ3X/s2IlDypCUqdRNkDEl5kVfUUimqT/9GsRkQVavFeDYKAACZ5nTNTKtymf7qM7d+8X//3dYn7n/VOVt6urrd+UApxZjSDSYlhaHyPOIcTRM5R4aIDfPFZgVanTMRTY5Hs9NaZy4nhMA2Rz7tidST2/T9O7/9g3dfAgCIaHAGAO68x5ysluoSBAYpUlQK3Lv8ai05FJJSynWrfil/VZ+VRY8A/tnbxRjw6X0MkNVukQTnFhev6uhbefiXMPYoKQKQiMovlHjnoPjLzw8OrGk0ASJwjvffeWdXdsWRw9QQqe7qiDGkODJmUoY+kBMHk0BEgIQYEpCK3SEBETLMduT++xf/asWKv7nk9Rd1ZbA0O71/77PB2rWDfT3zJTce8zIGus40rW7cihSQ55OSoGlgGIyxRm+9oOkIQNMM07bys/mnnniiWpl7qUQS3JiYHjsyWxnKWhpncRoLERhjnLesQtF1ZadbXaaQyukZ2lYtMSQgAAWogIjcasWaOrql2+xxdIaAgGPVqjl9In48GYJgWPEif/Vr39ua6iYAAClpoG+VUmBb4bMfe7f+1v8sNlyICLlO3tnJAEAIsCzWmdVsTVigAIAICVmcCSbEejoYAYFx4VVLURBJKasV+ZEP/XnZU3fc/W+HDh0SjL3r2uvedtWV9ZXVxNiCgZ1txdNUEEaKCGQE8WDfMFATiIikQEZgmhYrsYP7jz++bV81aOP3Kdru7nRdD6WaKHkMsb/DFPUp83rqDgAAEXl9tWJ8Y5wDaVooROOFmXj+zQvpnC4HVJgvN3L5bhzR+VLO+VITYk2HOTfrHj0cIYLQYGCQA9TmpQAAEVJp7O5Oi2d/hke3KiWJAtevgKnNCyxuOP8iW8sNdJqDXVXf31P0fjITAEJtpRMSIo99CxcGKem55SOHyue/Wq0Y6LEMw9H1q65483t+//o1q1ZmMh0AC8YYeNKGJhgBiXiNGgGPtQRChvsPPLrjqfveeOkFyhff/9bPVDuzg+2JNFc68Y9f+roG4IYSAcaLbk/aOPkwTdcL+Znh4UMMmSLFOd+46TxE1HVj0TJ/zni3pZuNkVNjloPAIGZoQiqamK/qA6qrm9XyYIBKERDNzioi8FyanonOCkCb2d0oQEhl6vpUtfLIYw9bZ5276ob3dwWVdbueLnaoa3qarXOCVSWQ64dfPZqfC1xkLAy87j7ekRF3/POt5xx48sp1/T3l0Y333m4xrra8Vl3x5riesaHEDqkRqUD8Bg4s4XGOD3vjE75pYcpJ6SmHoL352/ZE8sPKtke29afXAEFXLpsb36tK/rQXBN2EgEpJ07Tys9PHhw8hYuj78VqDkGjv7qcAgTG2cdN5C3UiQNAZb4ZjLZdzACTRdFkZOqbTzcn2OAJMpRgB2DZ5Hr999JA/MxxImqyGvSmzL6X3OakowvGJyfEgMpRjyyjHe7gGuigPTu+NuziOkSXYtV3rXq1nPAWM8SPD/vmdPApheO8+ffrEusEBMTNamJ2AbEdGuGzuGBGgEMAYhCFUKlCusEwHFYs0V4g++l8p100EnCNj0JKHoSAgTdhhFI6Pj63sX6faib/bFgkAoigq2lkA9ENOA+eWkAJFYGeklIZpzkzMT43PKCkVqXRHZmBojeCCcRYEQbVSPj58cNfOx84973VNneLZ93iJ2MILxZpxRENwFs/61sdDcSLKtGoTfrZDRRZUwVcMwJSTwfxUnvYVC92GYwiuJo+FlUKFMRdRcLQ5Vd1CPXMIguE93pG4E+PIRqrT1TCcmpQYsPGgeKLqrLQ7rJRhZkwoTsP8LADUksoA5AcQRTBnMCnJ97U7vweGBQjg+SgYjU9BpQqWgVe+g6c3SxVu3LDBYJ3f+NqPJmbb+y2J9kQiiuaLlXRHDgA8P5jiFmcs5Tia0AwhSnn3+NHDfliyUzpn3OnIdXV2BZFkjNkOy+a6lZLDRw+MnjgaSblm7QYiAgJs+rIFLMzwLDA0ambaAOIJBc6lxhHA1nkQqVCpOMoWHC3fN90ZW3AA4AwFZwTxjw0AAAQRHanM1dRGPORVi4G6919ufXbHVs1195fy89K3I90JCoPZznXdvcgYkAJSwDgJDoikFAiOwsZjBwkIESGSwBjOz0MQoqG79//iqeDRXcXyGy7ZHLn8qad2ul6xrWZv15JkdX5mZrL2Jl68pNM2bc6FpmnFfKlQmDJtTcoOXTcNKxVGURRGAMAY13V9xcCqqYnRUjFfmp9fvWY9AKTSHaOwultWs/6sUMFSYkFjrqqWHmzRCQBgYYqWAHTBdGCCMwt5WUrGUHBmary1O6V6Iqp2eq1M6u+wfvztr+eP7tULEwQwVil7EGIVWB6P5vNHZmc448iQMURkGkOO8Lp1G0EpYCzuEgAA48ghmwEAGcl5yOw/PjxaneXiNdXA9by2V+4tI8HqFWYnWj8Xmg+9QgQADRGjwCsX89mOjlqjkGrM8+m6qYLamya27cyA48pgTktzWmJ1jR25jj9iaqwRz6vGTwXERyx+06Jlo572bUymUH1YEMd3tYRhy7xwd0rf9uCd67JWX4dRDSVHlLV3Q3G8VBovleKxQc2lMeSIpSBCQMaQIbphhBjnvdAQTGOoImldfikbMpwRV9d1pXyponZbfHlTFeq5dhBhFIZRFHGuysX8jGlalpPL5uKf7poYP0FEjLEoCkdOHONg9a7o5oJXuF7h3UsWaEdupyRD8rvvuXPRriuvuCreqL/ot7AmEM9wq0jVUjRY7zbj/rVVM2pO5UNGYzpDALA1cXIKtTZZDkQAkQQC2HHsKEJtSagbyHIgiYAzuPC1zoo1qWN7/B533nYMx3FODE8++fiuUmXyxTVyk1P6KbWlID/woVw0DYuxYHx02EllVOT7YcQQJ8ePc6HNl8ohFQ7sL3FwvGCVtmBiBgGAgZZKd3RkUwBQFVY1ewa4cPi733yuS3oenUAnsFcAABBkwpITVQBAknKNlJ/p1W2zAMC8+Y7ydCxOTSdsagYtab8lryIV+cJSvSsdxwFAxpBzLqV0qy4R6aN7Nc4MjbuhLAWRIZiTEpve2BGRd2B4fzSwqq+398nHd/7whz+ZLQy326anXSQAUL5fDQJPcN22pedWpiZPAAAiCi6EiPL5OSIJICMoHDlSPvntaAZGLtfd1dsJi1oPmCGcnhVd8ZKj7yyQLQOpTLzV7c9mgpIQHBVUrC7Zv6aq61JGWJ5ThRHGwDANUoQAUkkipSpluzwlSMYX0znniPWVNQAAfqRCJ6cyffPMlIMbXceJTXJqamzFytU6ZwDEHMcPPO/oXsGQI6YNbfd2BVbFrhqHju0UKWf10MoDzxz223dI8NKIBABApMLIK80v8Zbjwqx+dHI6WEI4k6/Ozi1erYHAbKOb6Ys7WwRA0Jy0o+saAMwYXTNGF+dCyohznouUpwIAACMz2Z9FxGyuA4gQIIrCSEpVmFFTQlOhpgkAsM2ANOZxlFGkefPoV+eUVu1Ypa0+u1yenz0+HIQSEIIgOLh/17nnXbhu1YBUUj/r31XK83NTBRFUNZlnCJKCvVvnekRa7+zRTFNK6bqeouf0FM/DkvHUbzKIuMS6UwHplWuH0pl0IyXNGJNSKiV1zaiv/uaGbmeyacs0GGOMIWNMSYrHaoCQyXTESQ2lpJTSq7qp6aMwOzqldcr+9VEox0dHDx58Ujcsy7YR0bZsz/PmS3O+759/4RtSttnT0yd0bhx9ujM/bKOseGEnT5U3bkldcikq/PmP73r4kYe8qNDuPb9UlvSSQURL/PRMCLNHjxZPWvwURwa1LxFEtqNv1RlDAHXVEAAZInLUs13ZKAzjrCOvvUrA5rvXB9nVoR+EXjg2PDk5PpZOZ2wnteaMTfGgIpNJ73pqe3G+vOvpx6Mo3HjWeRvP3FTMnREFYbY4EgSR0ZPJrllnp9Kjxyfyc3ORWs768FecSM8J0QuEtgRBvjg899QSa950zJ295aySZWA8BEJsGJ8Qmu3Yc9P5ibERq0MGAWm6kUqlfD/gjA0N9mnsomf2H4xCnzP27K7tqXQWmKikV03MFvQwtM8+f+2WC0eGjz/y4OOHDh6OVGUZt/aK6+5eKhD1k1tDgNM/MLR+07rpyZnhI4fslLCd1JkbX7XhzPX79h1u/OJILte5c/fuytyk75XXnnEuCo0LkctmdU0DxGzKKhTndz275+ih3QTucup2Om7wtxuOKIgkAhmmnc1kDNNetWa9bTmMM9f1CKC3q/Pp3Xsqc1Oc85lJt2tFp+lY8WiKC82x7cmR6YmxYQWF5dUgEenFg6Zp5bLdUkaMsTdeenl3f98v730QkXGh5ccOWZYzNjbpB6Xa8uKWE4nk82QAXvjCp1733ykQuWk4mUwmisJGd0dEhmGapjU6diII3Be51KuNi57e4n5HQGSCm93dtVSWZTnDx04ocF+atzETkU6B1lzJC667S0hISEhISEhISEhISEhISEhISEhISEhISEhISEhISEhISEhISEhISEhISEhISEhISEhISEhISEhISEhISEhISEhISEhISHiZ+P+JQR27Oc3lmAAAAABJRU5ErkJggg==\"/></div></div></div></td><td style=\"padding:1px;\"><div style=\"display:flex; align-items:left;\">\n",
              "      <div style=\"display:flex; flex-direction:column; align-items:center;\">\n",
              "      <div>generated image</div><div><img width=\"250\" height=\"250\" style=\"image-rendering:pixelated; object-fit:cover;\" src=\"data:image/png;base64,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\"/></div></div></div></td><td style=\"padding:1px;\"><div style=\"display:flex; align-items:left;\">\n",
              "      <div style=\"display:flex; flex-direction:column; align-items:center;\">\n",
              "      <div>input image two</div><div><img width=\"250\" height=\"250\" style=\"image-rendering:pixelated; object-fit:cover;\" src=\"data:image/png;base64,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\"/></div></div></div></td></tr></table>"
            ],
            "text/plain": [
              "<IPython.core.display.HTML object>"
            ]
          },
          "metadata": {},
          "output_type": "display_data"
        }
      ],
      "source": [
        "frames = [image1, mid_frame['image'][0].numpy(), image2]\n",
        "\n",
        "media.show_images(frames, titles=['input image one', 'generated image', 'input image two'], height=250)"
      ]
    },
    {
      "cell_type": "markdown",
      "metadata": {
        "id": "fS1AT8kn-f_l"
      },
      "source": [
        "Let's create a video from the generated frames"
      ]
    },
    {
      "cell_type": "code",
      "execution_count": 16,
      "metadata": {
        "colab": {
          "base_uri": "https://localhost:8080/",
          "height": 180
        },
        "id": "oFc53B3p37SH",
        "outputId": "c453cb6e-2088-4b2e-937f-6aea80ad0d55"
      },
      "outputs": [
        {
          "data": {
            "text/html": [
              "<table class=\"show_videos\" style=\"border-spacing:0px;\"><tr><td style=\"padding:1px;\"><div style=\"display:flex; align-items:left;\">\n",
              "      <div style=\"display:flex; flex-direction:column; align-items:center;\">\n",
              "      <div>FILM interpolated video</div><div><video controls width=\"140\" height=\"140\" style=\"object-fit:cover;\" loop autoplay muted>\n",
              "      <source src=\"data:video/mp4;base64,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\" type=\"video/mp4\"/>\n",
              "      This browser does not support the video tag.\n",
              "      </video></div></div></div></td></tr></table>"
            ],
            "text/plain": [
              "<IPython.core.display.HTML object>"
            ]
          },
          "metadata": {},
          "output_type": "display_data"
        }
      ],
      "source": [
        "media.show_video(frames, fps=3, title='FILM interpolated video')"
      ]
    },
    {
      "cell_type": "markdown",
      "metadata": {
        "id": "x5AOFNkj-lfO"
      },
      "source": [
        "## Define a Frame Interpolator Library\n",
        "\n",
        "As you can see, the transition is not too smooth.\n",
        "\n",
        "To improve that you'll need many more interpolated frames.\n",
        "\n",
        "You could just keep running the model many times with intermediary images but there is a better solution.\n",
        "\n",
        "To generate many interpolated images and have a  smoother video you'll create an interpolator library."
      ]
    },
    {
      "cell_type": "code",
      "execution_count": 17,
      "metadata": {
        "id": "tsoDv_9geoZn"
      },
      "outputs": [],
      "source": [
        "\"\"\"A wrapper class for running a frame interpolation based on the FILM model on TFHub\n",
        "\n",
        "Usage:\n",
        "  interpolator = Interpolator()\n",
        "  result_batch = interpolator(image_batch_0, image_batch_1, batch_dt)\n",
        "  Where image_batch_1 and image_batch_2 are numpy tensors with TF standard\n",
        "  (B,H,W,C) layout, batch_dt is the sub-frame time in range [0..1], (B,) layout.\n",
        "\"\"\"\n",
        "\n",
        "\n",
        "def _pad_to_align(x, align):\n",
        "  \"\"\"Pads image batch x so width and height divide by align.\n",
        "\n",
        "  Args:\n",
        "    x: Image batch to align.\n",
        "    align: Number to align to.\n",
        "\n",
        "  Returns:\n",
        "    1) An image padded so width % align == 0 and height % align == 0.\n",
        "    2) A bounding box that can be fed readily to tf.image.crop_to_bounding_box\n",
        "      to undo the padding.\n",
        "  \"\"\"\n",
        "  # Input checking.\n",
        "  assert np.ndim(x) == 4\n",
        "  assert align > 0, 'align must be a positive number.'\n",
        "\n",
        "  height, width = x.shape[-3:-1]\n",
        "  height_to_pad = (align - height % align) if height % align != 0 else 0\n",
        "  width_to_pad = (align - width % align) if width % align != 0 else 0\n",
        "\n",
        "  bbox_to_pad = {\n",
        "      'offset_height': height_to_pad // 2,\n",
        "      'offset_width': width_to_pad // 2,\n",
        "      'target_height': height + height_to_pad,\n",
        "      'target_width': width + width_to_pad\n",
        "  }\n",
        "  padded_x = tf.image.pad_to_bounding_box(x, **bbox_to_pad)\n",
        "  bbox_to_crop = {\n",
        "      'offset_height': height_to_pad // 2,\n",
        "      'offset_width': width_to_pad // 2,\n",
        "      'target_height': height,\n",
        "      'target_width': width\n",
        "  }\n",
        "  return padded_x, bbox_to_crop\n",
        "\n",
        "\n",
        "class Interpolator:\n",
        "  \"\"\"A class for generating interpolated frames between two input frames.\n",
        "\n",
        "  Uses the Film model from TFHub\n",
        "  \"\"\"\n",
        "\n",
        "  def __init__(self, align: int = 64) -> None:\n",
        "    \"\"\"Loads a saved model.\n",
        "\n",
        "    Args:\n",
        "      align: 'If >1, pad the input size so it divides with this before\n",
        "        inference.'\n",
        "    \"\"\"\n",
        "    self._model = hub.load(\"https://tfhub.dev/google/film/1\")\n",
        "    self._align = align\n",
        "\n",
        "  def __call__(self, x0: np.ndarray, x1: np.ndarray,\n",
        "               dt: np.ndarray) -> np.ndarray:\n",
        "    \"\"\"Generates an interpolated frame between given two batches of frames.\n",
        "\n",
        "    All inputs should be np.float32 datatype.\n",
        "\n",
        "    Args:\n",
        "      x0: First image batch. Dimensions: (batch_size, height, width, channels)\n",
        "      x1: Second image batch. Dimensions: (batch_size, height, width, channels)\n",
        "      dt: Sub-frame time. Range [0,1]. Dimensions: (batch_size,)\n",
        "\n",
        "    Returns:\n",
        "      The result with dimensions (batch_size, height, width, channels).\n",
        "    \"\"\"\n",
        "    if self._align is not None:\n",
        "      x0, bbox_to_crop = _pad_to_align(x0, self._align)\n",
        "      x1, _ = _pad_to_align(x1, self._align)\n",
        "\n",
        "    inputs = {'x0': x0, 'x1': x1, 'time': dt[..., np.newaxis]}\n",
        "    result = self._model(inputs, training=False)\n",
        "    image = result['image']\n",
        "\n",
        "    if self._align is not None:\n",
        "      image = tf.image.crop_to_bounding_box(image, **bbox_to_crop)\n",
        "    return image.numpy()"
      ]
    },
    {
      "cell_type": "markdown",
      "metadata": {
        "id": "ZeGYaNBd_7a5"
      },
      "source": [
        "## Frame and Video Generation Utility Functions"
      ]
    },
    {
      "cell_type": "code",
      "execution_count": 18,
      "metadata": {
        "id": "gOJxup6s_1DP"
      },
      "outputs": [],
      "source": [
        "def _recursive_generator(\n",
        "    frame1: np.ndarray, frame2: np.ndarray, num_recursions: int,\n",
        "    interpolator: Interpolator) -> Generator[np.ndarray, None, None]:\n",
        "  \"\"\"Splits halfway to repeatedly generate more frames.\n",
        "\n",
        "  Args:\n",
        "    frame1: Input image 1.\n",
        "    frame2: Input image 2.\n",
        "    num_recursions: How many times to interpolate the consecutive image pairs.\n",
        "    interpolator: The frame interpolator instance.\n",
        "\n",
        "  Yields:\n",
        "    The interpolated frames, including the first frame (frame1), but excluding\n",
        "    the final frame2.\n",
        "  \"\"\"\n",
        "  if num_recursions == 0:\n",
        "    yield frame1\n",
        "  else:\n",
        "    # Adds the batch dimension to all inputs before calling the interpolator,\n",
        "    # and remove it afterwards.\n",
        "    time = np.full(shape=(1,), fill_value=0.5, dtype=np.float32)\n",
        "    mid_frame = interpolator(\n",
        "        np.expand_dims(frame1, axis=0), np.expand_dims(frame2, axis=0), time)[0]\n",
        "    yield from _recursive_generator(frame1, mid_frame, num_recursions - 1,\n",
        "                                    interpolator)\n",
        "    yield from _recursive_generator(mid_frame, frame2, num_recursions - 1,\n",
        "                                    interpolator)\n",
        "\n",
        "\n",
        "def interpolate_recursively(\n",
        "    frames: List[np.ndarray], num_recursions: int,\n",
        "    interpolator: Interpolator) -> Iterable[np.ndarray]:\n",
        "  \"\"\"Generates interpolated frames by repeatedly interpolating the midpoint.\n",
        "\n",
        "  Args:\n",
        "    frames: List of input frames. Expected shape (H, W, 3). The colors should be\n",
        "      in the range[0, 1] and in gamma space.\n",
        "    num_recursions: Number of times to do recursive midpoint\n",
        "      interpolation.\n",
        "    interpolator: The frame interpolation model to use.\n",
        "\n",
        "  Yields:\n",
        "    The interpolated frames (including the inputs).\n",
        "  \"\"\"\n",
        "  n = len(frames)\n",
        "  for i in range(1, n):\n",
        "    yield from _recursive_generator(frames[i - 1], frames[i],\n",
        "                                    times_to_interpolate, interpolator)\n",
        "  # Separately yield the final frame.\n",
        "  yield frames[-1]"
      ]
    },
    {
      "cell_type": "code",
      "execution_count": 19,
      "metadata": {
        "id": "X1R2KjhEAHu0"
      },
      "outputs": [],
      "source": [
        "times_to_interpolate = 6\n",
        "interpolator = Interpolator()"
      ]
    },
    {
      "cell_type": "markdown",
      "metadata": {
        "id": "AZUo8tg1AYvZ"
      },
      "source": [
        "## Running the Interpolator"
      ]
    },
    {
      "cell_type": "code",
      "execution_count": 20,
      "metadata": {
        "id": "QMMNjs7sAWTG"
      },
      "outputs": [],
      "source": [
        "input_frames = [image1, image2]\n",
        "frames = list(\n",
        "    interpolate_recursively(input_frames, times_to_interpolate,\n",
        "                                        interpolator))\n"
      ]
    },
    {
      "cell_type": "code",
      "execution_count": 21,
      "metadata": {
        "colab": {
          "base_uri": "https://localhost:8080/",
          "height": 198
        },
        "id": "s9mHHyCAAhrM",
        "outputId": "561f07d9-9a87-4d5b-f351-6f431449b29e"
      },
      "outputs": [
        {
          "name": "stdout",
          "output_type": "stream",
          "text": [
            "video with 65 frames\n"
          ]
        },
        {
          "data": {
            "text/html": [
              "<table class=\"show_videos\" style=\"border-spacing:0px;\"><tr><td style=\"padding:1px;\"><div style=\"display:flex; align-items:left;\">\n",
              "      <div style=\"display:flex; flex-direction:column; align-items:center;\">\n",
              "      <div>FILM interpolated video</div><div><video controls width=\"140\" height=\"140\" style=\"object-fit:cover;\" loop autoplay muted>\n",
              "      <source src=\"data:video/mp4;base64,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\" type=\"video/mp4\"/>\n",
              "      This browser does not support the video tag.\n",
              "      </video></div></div></div></td></tr></table>"
            ],
            "text/plain": [
              "<IPython.core.display.HTML object>"
            ]
          },
          "metadata": {},
          "output_type": "display_data"
        }
      ],
      "source": [
        "print(f'video with {len(frames)} frames')\n",
        "media.show_video(frames, fps=30, title='FILM interpolated video')"
      ]
    },
    {
      "cell_type": "markdown",
      "metadata": {
        "id": "_0AZKeMVFwAc"
      },
      "source": [
        "For more information, you can visit [FILM's model repository](https://github.com/google-research/frame-interpolation).\n"
      ]
    },
    {
      "cell_type": "markdown",
      "metadata": {
        "id": "8764ry3SGDks"
      },
      "source": [
        "## Citation\n",
        "\n",
        "If you find this model and code useful in your works, please acknowledge it appropriately by citing:\n",
        "\n",
        "```\n",
        "@inproceedings{reda2022film,\n",
        " title = {FILM: Frame Interpolation for Large Motion},\n",
        " author = {Fitsum Reda and Janne Kontkanen and Eric Tabellion and Deqing Sun and Caroline Pantofaru and Brian Curless},\n",
        " booktitle = {The European Conference on Computer Vision (ECCV)},\n",
        " year = {2022}\n",
        "}\n",
        "```\n",
        "\n",
        "```\n",
        "@misc{film-tf,\n",
        "  title = {Tensorflow 2 Implementation of \"FILM: Frame Interpolation for Large Motion\"},\n",
        "  author = {Fitsum Reda and Janne Kontkanen and Eric Tabellion and Deqing Sun and Caroline Pantofaru and Brian Curless},\n",
        "  year = {2022},\n",
        "  publisher = {GitHub},\n",
        "  journal = {GitHub repository},\n",
        "  howpublished = {\\url{https://github.com/google-research/frame-interpolation}}\n",
        "}\n",
        "```"
      ]
    },
    {
      "cell_type": "code",
      "execution_count": 1,
      "metadata": {},
      "outputs": [
        {
          "name": "stderr",
          "output_type": "stream",
          "text": [
            "2024-07-04 14:25:03.402683: I external/local_tsl/tsl/cuda/cudart_stub.cc:32] Could not find cuda drivers on your machine, GPU will not be used.\n",
            "2024-07-04 14:25:03.406553: I external/local_tsl/tsl/cuda/cudart_stub.cc:32] Could not find cuda drivers on your machine, GPU will not be used.\n",
            "2024-07-04 14:25:03.421529: E external/local_xla/xla/stream_executor/cuda/cuda_fft.cc:479] Unable to register cuFFT factory: Attempting to register factory for plugin cuFFT when one has already been registered\n",
            "2024-07-04 14:25:03.450188: E external/local_xla/xla/stream_executor/cuda/cuda_dnn.cc:10575] Unable to register cuDNN factory: Attempting to register factory for plugin cuDNN when one has already been registered\n",
            "2024-07-04 14:25:03.450235: E external/local_xla/xla/stream_executor/cuda/cuda_blas.cc:1442] Unable to register cuBLAS factory: Attempting to register factory for plugin cuBLAS when one has already been registered\n",
            "2024-07-04 14:25:03.469177: I tensorflow/core/platform/cpu_feature_guard.cc:210] This TensorFlow binary is optimized to use available CPU instructions in performance-critical operations.\n",
            "To enable the following instructions: AVX2 FMA, in other operations, rebuild TensorFlow with the appropriate compiler flags.\n",
            "2024-07-04 14:25:04.663460: W tensorflow/compiler/tf2tensorrt/utils/py_utils.cc:38] TF-TRT Warning: Could not find TensorRT\n"
          ]
        },
        {
          "ename": "URLError",
          "evalue": "<urlopen error [Errno -3] Temporary failure in name resolution>",
          "output_type": "error",
          "traceback": [
            "\u001b[0;31m---------------------------------------------------------------------------\u001b[0m",
            "\u001b[0;31mgaierror\u001b[0m                                  Traceback (most recent call last)",
            "File \u001b[0;32m~/miniconda3/lib/python3.12/urllib/request.py:1344\u001b[0m, in \u001b[0;36mAbstractHTTPHandler.do_open\u001b[0;34m(self, http_class, req, **http_conn_args)\u001b[0m\n\u001b[1;32m   1343\u001b[0m \u001b[38;5;28;01mtry\u001b[39;00m:\n\u001b[0;32m-> 1344\u001b[0m     \u001b[43mh\u001b[49m\u001b[38;5;241;43m.\u001b[39;49m\u001b[43mrequest\u001b[49m\u001b[43m(\u001b[49m\u001b[43mreq\u001b[49m\u001b[38;5;241;43m.\u001b[39;49m\u001b[43mget_method\u001b[49m\u001b[43m(\u001b[49m\u001b[43m)\u001b[49m\u001b[43m,\u001b[49m\u001b[43m \u001b[49m\u001b[43mreq\u001b[49m\u001b[38;5;241;43m.\u001b[39;49m\u001b[43mselector\u001b[49m\u001b[43m,\u001b[49m\u001b[43m \u001b[49m\u001b[43mreq\u001b[49m\u001b[38;5;241;43m.\u001b[39;49m\u001b[43mdata\u001b[49m\u001b[43m,\u001b[49m\u001b[43m \u001b[49m\u001b[43mheaders\u001b[49m\u001b[43m,\u001b[49m\n\u001b[1;32m   1345\u001b[0m \u001b[43m              \u001b[49m\u001b[43mencode_chunked\u001b[49m\u001b[38;5;241;43m=\u001b[39;49m\u001b[43mreq\u001b[49m\u001b[38;5;241;43m.\u001b[39;49m\u001b[43mhas_header\u001b[49m\u001b[43m(\u001b[49m\u001b[38;5;124;43m'\u001b[39;49m\u001b[38;5;124;43mTransfer-encoding\u001b[39;49m\u001b[38;5;124;43m'\u001b[39;49m\u001b[43m)\u001b[49m\u001b[43m)\u001b[49m\n\u001b[1;32m   1346\u001b[0m \u001b[38;5;28;01mexcept\u001b[39;00m \u001b[38;5;167;01mOSError\u001b[39;00m \u001b[38;5;28;01mas\u001b[39;00m err: \u001b[38;5;66;03m# timeout error\u001b[39;00m\n",
            "File \u001b[0;32m~/miniconda3/lib/python3.12/http/client.py:1331\u001b[0m, in \u001b[0;36mHTTPConnection.request\u001b[0;34m(self, method, url, body, headers, encode_chunked)\u001b[0m\n\u001b[1;32m   1330\u001b[0m \u001b[38;5;250m\u001b[39m\u001b[38;5;124;03m\"\"\"Send a complete request to the server.\"\"\"\u001b[39;00m\n\u001b[0;32m-> 1331\u001b[0m \u001b[38;5;28;43mself\u001b[39;49m\u001b[38;5;241;43m.\u001b[39;49m\u001b[43m_send_request\u001b[49m\u001b[43m(\u001b[49m\u001b[43mmethod\u001b[49m\u001b[43m,\u001b[49m\u001b[43m \u001b[49m\u001b[43murl\u001b[49m\u001b[43m,\u001b[49m\u001b[43m \u001b[49m\u001b[43mbody\u001b[49m\u001b[43m,\u001b[49m\u001b[43m \u001b[49m\u001b[43mheaders\u001b[49m\u001b[43m,\u001b[49m\u001b[43m \u001b[49m\u001b[43mencode_chunked\u001b[49m\u001b[43m)\u001b[49m\n",
            "File \u001b[0;32m~/miniconda3/lib/python3.12/http/client.py:1377\u001b[0m, in \u001b[0;36mHTTPConnection._send_request\u001b[0;34m(self, method, url, body, headers, encode_chunked)\u001b[0m\n\u001b[1;32m   1376\u001b[0m     body \u001b[38;5;241m=\u001b[39m _encode(body, \u001b[38;5;124m'\u001b[39m\u001b[38;5;124mbody\u001b[39m\u001b[38;5;124m'\u001b[39m)\n\u001b[0;32m-> 1377\u001b[0m \u001b[38;5;28;43mself\u001b[39;49m\u001b[38;5;241;43m.\u001b[39;49m\u001b[43mendheaders\u001b[49m\u001b[43m(\u001b[49m\u001b[43mbody\u001b[49m\u001b[43m,\u001b[49m\u001b[43m \u001b[49m\u001b[43mencode_chunked\u001b[49m\u001b[38;5;241;43m=\u001b[39;49m\u001b[43mencode_chunked\u001b[49m\u001b[43m)\u001b[49m\n",
            "File \u001b[0;32m~/miniconda3/lib/python3.12/http/client.py:1326\u001b[0m, in \u001b[0;36mHTTPConnection.endheaders\u001b[0;34m(self, message_body, encode_chunked)\u001b[0m\n\u001b[1;32m   1325\u001b[0m     \u001b[38;5;28;01mraise\u001b[39;00m CannotSendHeader()\n\u001b[0;32m-> 1326\u001b[0m \u001b[38;5;28;43mself\u001b[39;49m\u001b[38;5;241;43m.\u001b[39;49m\u001b[43m_send_output\u001b[49m\u001b[43m(\u001b[49m\u001b[43mmessage_body\u001b[49m\u001b[43m,\u001b[49m\u001b[43m \u001b[49m\u001b[43mencode_chunked\u001b[49m\u001b[38;5;241;43m=\u001b[39;49m\u001b[43mencode_chunked\u001b[49m\u001b[43m)\u001b[49m\n",
            "File \u001b[0;32m~/miniconda3/lib/python3.12/http/client.py:1085\u001b[0m, in \u001b[0;36mHTTPConnection._send_output\u001b[0;34m(self, message_body, encode_chunked)\u001b[0m\n\u001b[1;32m   1084\u001b[0m \u001b[38;5;28;01mdel\u001b[39;00m \u001b[38;5;28mself\u001b[39m\u001b[38;5;241m.\u001b[39m_buffer[:]\n\u001b[0;32m-> 1085\u001b[0m \u001b[38;5;28;43mself\u001b[39;49m\u001b[38;5;241;43m.\u001b[39;49m\u001b[43msend\u001b[49m\u001b[43m(\u001b[49m\u001b[43mmsg\u001b[49m\u001b[43m)\u001b[49m\n\u001b[1;32m   1087\u001b[0m \u001b[38;5;28;01mif\u001b[39;00m message_body \u001b[38;5;129;01mis\u001b[39;00m \u001b[38;5;129;01mnot\u001b[39;00m \u001b[38;5;28;01mNone\u001b[39;00m:\n\u001b[1;32m   1088\u001b[0m \n\u001b[1;32m   1089\u001b[0m     \u001b[38;5;66;03m# create a consistent interface to message_body\u001b[39;00m\n",
            "File \u001b[0;32m~/miniconda3/lib/python3.12/http/client.py:1029\u001b[0m, in \u001b[0;36mHTTPConnection.send\u001b[0;34m(self, data)\u001b[0m\n\u001b[1;32m   1028\u001b[0m \u001b[38;5;28;01mif\u001b[39;00m \u001b[38;5;28mself\u001b[39m\u001b[38;5;241m.\u001b[39mauto_open:\n\u001b[0;32m-> 1029\u001b[0m     \u001b[38;5;28;43mself\u001b[39;49m\u001b[38;5;241;43m.\u001b[39;49m\u001b[43mconnect\u001b[49m\u001b[43m(\u001b[49m\u001b[43m)\u001b[49m\n\u001b[1;32m   1030\u001b[0m \u001b[38;5;28;01melse\u001b[39;00m:\n",
            "File \u001b[0;32m~/miniconda3/lib/python3.12/http/client.py:1465\u001b[0m, in \u001b[0;36mHTTPSConnection.connect\u001b[0;34m(self)\u001b[0m\n\u001b[1;32m   1463\u001b[0m \u001b[38;5;124m\"\u001b[39m\u001b[38;5;124mConnect to a host on a given (SSL) port.\u001b[39m\u001b[38;5;124m\"\u001b[39m\n\u001b[0;32m-> 1465\u001b[0m \u001b[38;5;28;43msuper\u001b[39;49m\u001b[43m(\u001b[49m\u001b[43m)\u001b[49m\u001b[38;5;241;43m.\u001b[39;49m\u001b[43mconnect\u001b[49m\u001b[43m(\u001b[49m\u001b[43m)\u001b[49m\n\u001b[1;32m   1467\u001b[0m \u001b[38;5;28;01mif\u001b[39;00m \u001b[38;5;28mself\u001b[39m\u001b[38;5;241m.\u001b[39m_tunnel_host:\n",
            "File \u001b[0;32m~/miniconda3/lib/python3.12/http/client.py:995\u001b[0m, in \u001b[0;36mHTTPConnection.connect\u001b[0;34m(self)\u001b[0m\n\u001b[1;32m    994\u001b[0m sys\u001b[38;5;241m.\u001b[39maudit(\u001b[38;5;124m\"\u001b[39m\u001b[38;5;124mhttp.client.connect\u001b[39m\u001b[38;5;124m\"\u001b[39m, \u001b[38;5;28mself\u001b[39m, \u001b[38;5;28mself\u001b[39m\u001b[38;5;241m.\u001b[39mhost, \u001b[38;5;28mself\u001b[39m\u001b[38;5;241m.\u001b[39mport)\n\u001b[0;32m--> 995\u001b[0m \u001b[38;5;28mself\u001b[39m\u001b[38;5;241m.\u001b[39msock \u001b[38;5;241m=\u001b[39m \u001b[38;5;28;43mself\u001b[39;49m\u001b[38;5;241;43m.\u001b[39;49m\u001b[43m_create_connection\u001b[49m\u001b[43m(\u001b[49m\n\u001b[1;32m    996\u001b[0m \u001b[43m    \u001b[49m\u001b[43m(\u001b[49m\u001b[38;5;28;43mself\u001b[39;49m\u001b[38;5;241;43m.\u001b[39;49m\u001b[43mhost\u001b[49m\u001b[43m,\u001b[49m\u001b[38;5;28;43mself\u001b[39;49m\u001b[38;5;241;43m.\u001b[39;49m\u001b[43mport\u001b[49m\u001b[43m)\u001b[49m\u001b[43m,\u001b[49m\u001b[43m \u001b[49m\u001b[38;5;28;43mself\u001b[39;49m\u001b[38;5;241;43m.\u001b[39;49m\u001b[43mtimeout\u001b[49m\u001b[43m,\u001b[49m\u001b[43m \u001b[49m\u001b[38;5;28;43mself\u001b[39;49m\u001b[38;5;241;43m.\u001b[39;49m\u001b[43msource_address\u001b[49m\u001b[43m)\u001b[49m\n\u001b[1;32m    997\u001b[0m \u001b[38;5;66;03m# Might fail in OSs that don't implement TCP_NODELAY\u001b[39;00m\n",
            "File \u001b[0;32m~/miniconda3/lib/python3.12/socket.py:828\u001b[0m, in \u001b[0;36mcreate_connection\u001b[0;34m(address, timeout, source_address, all_errors)\u001b[0m\n\u001b[1;32m    827\u001b[0m exceptions \u001b[38;5;241m=\u001b[39m []\n\u001b[0;32m--> 828\u001b[0m \u001b[38;5;28;01mfor\u001b[39;00m res \u001b[38;5;129;01min\u001b[39;00m \u001b[43mgetaddrinfo\u001b[49m\u001b[43m(\u001b[49m\u001b[43mhost\u001b[49m\u001b[43m,\u001b[49m\u001b[43m \u001b[49m\u001b[43mport\u001b[49m\u001b[43m,\u001b[49m\u001b[43m \u001b[49m\u001b[38;5;241;43m0\u001b[39;49m\u001b[43m,\u001b[49m\u001b[43m \u001b[49m\u001b[43mSOCK_STREAM\u001b[49m\u001b[43m)\u001b[49m:\n\u001b[1;32m    829\u001b[0m     af, socktype, proto, canonname, sa \u001b[38;5;241m=\u001b[39m res\n",
            "File \u001b[0;32m~/miniconda3/lib/python3.12/socket.py:963\u001b[0m, in \u001b[0;36mgetaddrinfo\u001b[0;34m(host, port, family, type, proto, flags)\u001b[0m\n\u001b[1;32m    962\u001b[0m addrlist \u001b[38;5;241m=\u001b[39m []\n\u001b[0;32m--> 963\u001b[0m \u001b[38;5;28;01mfor\u001b[39;00m res \u001b[38;5;129;01min\u001b[39;00m \u001b[43m_socket\u001b[49m\u001b[38;5;241;43m.\u001b[39;49m\u001b[43mgetaddrinfo\u001b[49m\u001b[43m(\u001b[49m\u001b[43mhost\u001b[49m\u001b[43m,\u001b[49m\u001b[43m \u001b[49m\u001b[43mport\u001b[49m\u001b[43m,\u001b[49m\u001b[43m \u001b[49m\u001b[43mfamily\u001b[49m\u001b[43m,\u001b[49m\u001b[43m \u001b[49m\u001b[38;5;28;43mtype\u001b[39;49m\u001b[43m,\u001b[49m\u001b[43m \u001b[49m\u001b[43mproto\u001b[49m\u001b[43m,\u001b[49m\u001b[43m \u001b[49m\u001b[43mflags\u001b[49m\u001b[43m)\u001b[49m:\n\u001b[1;32m    964\u001b[0m     af, socktype, proto, canonname, sa \u001b[38;5;241m=\u001b[39m res\n",
            "\u001b[0;31mgaierror\u001b[0m: [Errno -3] Temporary failure in name resolution",
            "\nDuring handling of the above exception, another exception occurred:\n",
            "\u001b[0;31mURLError\u001b[0m                                  Traceback (most recent call last)",
            "Cell \u001b[0;32mIn[1], line 197\u001b[0m\n\u001b[1;32m    193\u001b[0m     \u001b[38;5;28;01myield\u001b[39;00m frames[\u001b[38;5;241m-\u001b[39m\u001b[38;5;241m1\u001b[39m]\n\u001b[1;32m    196\u001b[0m times_to_interpolate \u001b[38;5;241m=\u001b[39m \u001b[38;5;241m2\u001b[39m\n\u001b[0;32m--> 197\u001b[0m interpolator \u001b[38;5;241m=\u001b[39m \u001b[43mInterpolator\u001b[49m\u001b[43m(\u001b[49m\u001b[43m)\u001b[49m\n\u001b[1;32m    200\u001b[0m input_frames \u001b[38;5;241m=\u001b[39m [image1, image2]\n\u001b[1;32m    201\u001b[0m frames \u001b[38;5;241m=\u001b[39m \u001b[38;5;28mlist\u001b[39m(\n\u001b[1;32m    202\u001b[0m     interpolate_recursively(input_frames, times_to_interpolate,\n\u001b[1;32m    203\u001b[0m                                         interpolator))\n",
            "Cell \u001b[0;32mIn[1], line 116\u001b[0m, in \u001b[0;36mInterpolator.__init__\u001b[0;34m(self, align)\u001b[0m\n\u001b[1;32m    109\u001b[0m \u001b[38;5;28;01mdef\u001b[39;00m \u001b[38;5;21m__init__\u001b[39m(\u001b[38;5;28mself\u001b[39m, align: \u001b[38;5;28mint\u001b[39m \u001b[38;5;241m=\u001b[39m \u001b[38;5;241m64\u001b[39m) \u001b[38;5;241m-\u001b[39m\u001b[38;5;241m>\u001b[39m \u001b[38;5;28;01mNone\u001b[39;00m:\n\u001b[1;32m    110\u001b[0m \u001b[38;5;250m  \u001b[39m\u001b[38;5;124;03m\"\"\"Loads a saved model.\u001b[39;00m\n\u001b[1;32m    111\u001b[0m \n\u001b[1;32m    112\u001b[0m \u001b[38;5;124;03m  Args:\u001b[39;00m\n\u001b[1;32m    113\u001b[0m \u001b[38;5;124;03m    align: 'If >1, pad the input size so it divides with this before\u001b[39;00m\n\u001b[1;32m    114\u001b[0m \u001b[38;5;124;03m      inference.'\u001b[39;00m\n\u001b[1;32m    115\u001b[0m \u001b[38;5;124;03m  \"\"\"\u001b[39;00m\n\u001b[0;32m--> 116\u001b[0m   \u001b[38;5;28mself\u001b[39m\u001b[38;5;241m.\u001b[39m_model \u001b[38;5;241m=\u001b[39m \u001b[43mhub\u001b[49m\u001b[38;5;241;43m.\u001b[39;49m\u001b[43mload\u001b[49m\u001b[43m(\u001b[49m\u001b[38;5;124;43m\"\u001b[39;49m\u001b[38;5;124;43mhttps://tfhub.dev/google/film/1\u001b[39;49m\u001b[38;5;124;43m\"\u001b[39;49m\u001b[43m)\u001b[49m\n\u001b[1;32m    117\u001b[0m   \u001b[38;5;28mself\u001b[39m\u001b[38;5;241m.\u001b[39m_align \u001b[38;5;241m=\u001b[39m align\n",
            "File \u001b[0;32m~/miniconda3/lib/python3.12/site-packages/tensorflow_hub/module_v2.py:100\u001b[0m, in \u001b[0;36mload\u001b[0;34m(handle, tags, options)\u001b[0m\n\u001b[1;32m     98\u001b[0m \u001b[38;5;28;01mif\u001b[39;00m \u001b[38;5;129;01mnot\u001b[39;00m \u001b[38;5;28misinstance\u001b[39m(handle, \u001b[38;5;28mstr\u001b[39m):\n\u001b[1;32m     99\u001b[0m   \u001b[38;5;28;01mraise\u001b[39;00m \u001b[38;5;167;01mValueError\u001b[39;00m(\u001b[38;5;124m\"\u001b[39m\u001b[38;5;124mExpected a string, got \u001b[39m\u001b[38;5;132;01m%s\u001b[39;00m\u001b[38;5;124m\"\u001b[39m \u001b[38;5;241m%\u001b[39m handle)\n\u001b[0;32m--> 100\u001b[0m module_path \u001b[38;5;241m=\u001b[39m \u001b[43mresolve\u001b[49m\u001b[43m(\u001b[49m\u001b[43mhandle\u001b[49m\u001b[43m)\u001b[49m\n\u001b[1;32m    101\u001b[0m is_hub_module_v1 \u001b[38;5;241m=\u001b[39m tf\u001b[38;5;241m.\u001b[39mio\u001b[38;5;241m.\u001b[39mgfile\u001b[38;5;241m.\u001b[39mexists(_get_module_proto_path(module_path))\n\u001b[1;32m    102\u001b[0m \u001b[38;5;28;01mif\u001b[39;00m tags \u001b[38;5;129;01mis\u001b[39;00m \u001b[38;5;28;01mNone\u001b[39;00m \u001b[38;5;129;01mand\u001b[39;00m is_hub_module_v1:\n",
            "File \u001b[0;32m~/miniconda3/lib/python3.12/site-packages/tensorflow_hub/module_v2.py:55\u001b[0m, in \u001b[0;36mresolve\u001b[0;34m(handle)\u001b[0m\n\u001b[1;32m     31\u001b[0m \u001b[38;5;28;01mdef\u001b[39;00m \u001b[38;5;21mresolve\u001b[39m(handle):\n\u001b[1;32m     32\u001b[0m \u001b[38;5;250m  \u001b[39m\u001b[38;5;124;03m\"\"\"Resolves a module handle into a path.\u001b[39;00m\n\u001b[1;32m     33\u001b[0m \n\u001b[1;32m     34\u001b[0m \u001b[38;5;124;03m  This function works both for plain TF2 SavedModels and the legacy TF1 Hub\u001b[39;00m\n\u001b[0;32m   (...)\u001b[0m\n\u001b[1;32m     53\u001b[0m \u001b[38;5;124;03m    A string representing the Module path.\u001b[39;00m\n\u001b[1;32m     54\u001b[0m \u001b[38;5;124;03m  \"\"\"\u001b[39;00m\n\u001b[0;32m---> 55\u001b[0m   \u001b[38;5;28;01mreturn\u001b[39;00m \u001b[43mregistry\u001b[49m\u001b[38;5;241;43m.\u001b[39;49m\u001b[43mresolver\u001b[49m\u001b[43m(\u001b[49m\u001b[43mhandle\u001b[49m\u001b[43m)\u001b[49m\n",
            "File \u001b[0;32m~/miniconda3/lib/python3.12/site-packages/tensorflow_hub/registry.py:49\u001b[0m, in \u001b[0;36mMultiImplRegister.__call__\u001b[0;34m(self, *args, **kwargs)\u001b[0m\n\u001b[1;32m     47\u001b[0m \u001b[38;5;28;01mfor\u001b[39;00m impl \u001b[38;5;129;01min\u001b[39;00m \u001b[38;5;28mreversed\u001b[39m(\u001b[38;5;28mself\u001b[39m\u001b[38;5;241m.\u001b[39m_impls):\n\u001b[1;32m     48\u001b[0m   \u001b[38;5;28;01mif\u001b[39;00m impl\u001b[38;5;241m.\u001b[39mis_supported(\u001b[38;5;241m*\u001b[39margs, \u001b[38;5;241m*\u001b[39m\u001b[38;5;241m*\u001b[39mkwargs):\n\u001b[0;32m---> 49\u001b[0m     \u001b[38;5;28;01mreturn\u001b[39;00m \u001b[43mimpl\u001b[49m\u001b[43m(\u001b[49m\u001b[38;5;241;43m*\u001b[39;49m\u001b[43margs\u001b[49m\u001b[43m,\u001b[49m\u001b[43m \u001b[49m\u001b[38;5;241;43m*\u001b[39;49m\u001b[38;5;241;43m*\u001b[39;49m\u001b[43mkwargs\u001b[49m\u001b[43m)\u001b[49m\n\u001b[1;32m     50\u001b[0m   \u001b[38;5;28;01melse\u001b[39;00m:\n\u001b[1;32m     51\u001b[0m     fails\u001b[38;5;241m.\u001b[39mappend(\u001b[38;5;28mtype\u001b[39m(impl)\u001b[38;5;241m.\u001b[39m\u001b[38;5;18m__name__\u001b[39m)\n",
            "File \u001b[0;32m~/miniconda3/lib/python3.12/site-packages/tensorflow_hub/compressed_module_resolver.py:81\u001b[0m, in \u001b[0;36mHttpCompressedFileResolver.__call__\u001b[0;34m(self, handle)\u001b[0m\n\u001b[1;32m     77\u001b[0m   response \u001b[38;5;241m=\u001b[39m \u001b[38;5;28mself\u001b[39m\u001b[38;5;241m.\u001b[39m_call_urlopen(request)\n\u001b[1;32m     78\u001b[0m   \u001b[38;5;28;01mreturn\u001b[39;00m resolver\u001b[38;5;241m.\u001b[39mDownloadManager(handle)\u001b[38;5;241m.\u001b[39mdownload_and_uncompress(\n\u001b[1;32m     79\u001b[0m       response, tmp_dir)\n\u001b[0;32m---> 81\u001b[0m \u001b[38;5;28;01mreturn\u001b[39;00m \u001b[43mresolver\u001b[49m\u001b[38;5;241;43m.\u001b[39;49m\u001b[43matomic_download\u001b[49m\u001b[43m(\u001b[49m\u001b[43mhandle\u001b[49m\u001b[43m,\u001b[49m\u001b[43m \u001b[49m\u001b[43mdownload\u001b[49m\u001b[43m,\u001b[49m\u001b[43m \u001b[49m\u001b[43mmodule_dir\u001b[49m\u001b[43m,\u001b[49m\n\u001b[1;32m     82\u001b[0m \u001b[43m                                \u001b[49m\u001b[38;5;28;43mself\u001b[39;49m\u001b[38;5;241;43m.\u001b[39;49m\u001b[43m_lock_file_timeout_sec\u001b[49m\u001b[43m(\u001b[49m\u001b[43m)\u001b[49m\u001b[43m)\u001b[49m\n",
            "File \u001b[0;32m~/miniconda3/lib/python3.12/site-packages/tensorflow_hub/resolver.py:421\u001b[0m, in \u001b[0;36matomic_download\u001b[0;34m(handle, download_fn, module_dir, lock_file_timeout_sec)\u001b[0m\n\u001b[1;32m    419\u001b[0m logging\u001b[38;5;241m.\u001b[39minfo(\u001b[38;5;124m\"\u001b[39m\u001b[38;5;124mDownloading TF-Hub Module \u001b[39m\u001b[38;5;124m'\u001b[39m\u001b[38;5;132;01m%s\u001b[39;00m\u001b[38;5;124m'\u001b[39m\u001b[38;5;124m.\u001b[39m\u001b[38;5;124m\"\u001b[39m, handle)\n\u001b[1;32m    420\u001b[0m tf\u001b[38;5;241m.\u001b[39mcompat\u001b[38;5;241m.\u001b[39mv1\u001b[38;5;241m.\u001b[39mgfile\u001b[38;5;241m.\u001b[39mMakeDirs(tmp_dir)\n\u001b[0;32m--> 421\u001b[0m \u001b[43mdownload_fn\u001b[49m\u001b[43m(\u001b[49m\u001b[43mhandle\u001b[49m\u001b[43m,\u001b[49m\u001b[43m \u001b[49m\u001b[43mtmp_dir\u001b[49m\u001b[43m)\u001b[49m\n\u001b[1;32m    422\u001b[0m \u001b[38;5;66;03m# Write module descriptor to capture information about which module was\u001b[39;00m\n\u001b[1;32m    423\u001b[0m \u001b[38;5;66;03m# downloaded by whom and when. The file stored at the same level as a\u001b[39;00m\n\u001b[1;32m    424\u001b[0m \u001b[38;5;66;03m# directory in order to keep the content of the 'model_dir' exactly as it\u001b[39;00m\n\u001b[0;32m   (...)\u001b[0m\n\u001b[1;32m    429\u001b[0m \u001b[38;5;66;03m# module caching protocol and no code in the TF-Hub library reads its\u001b[39;00m\n\u001b[1;32m    430\u001b[0m \u001b[38;5;66;03m# content.\u001b[39;00m\n\u001b[1;32m    431\u001b[0m _write_module_descriptor_file(handle, module_dir)\n",
            "File \u001b[0;32m~/miniconda3/lib/python3.12/site-packages/tensorflow_hub/compressed_module_resolver.py:77\u001b[0m, in \u001b[0;36mHttpCompressedFileResolver.__call__.<locals>.download\u001b[0;34m(handle, tmp_dir)\u001b[0m\n\u001b[1;32m     71\u001b[0m   \u001b[38;5;28;01mreturn\u001b[39;00m resolver\u001b[38;5;241m.\u001b[39mDownloadManager(handle)\u001b[38;5;241m.\u001b[39mdownload_and_uncompress(\n\u001b[1;32m     72\u001b[0m       response, tmp_dir\n\u001b[1;32m     73\u001b[0m   )\n\u001b[1;32m     75\u001b[0m request \u001b[38;5;241m=\u001b[39m urllib\u001b[38;5;241m.\u001b[39mrequest\u001b[38;5;241m.\u001b[39mRequest(\n\u001b[1;32m     76\u001b[0m     \u001b[38;5;28mself\u001b[39m\u001b[38;5;241m.\u001b[39m_append_compressed_format_query(handle))\n\u001b[0;32m---> 77\u001b[0m response \u001b[38;5;241m=\u001b[39m \u001b[38;5;28;43mself\u001b[39;49m\u001b[38;5;241;43m.\u001b[39;49m\u001b[43m_call_urlopen\u001b[49m\u001b[43m(\u001b[49m\u001b[43mrequest\u001b[49m\u001b[43m)\u001b[49m\n\u001b[1;32m     78\u001b[0m \u001b[38;5;28;01mreturn\u001b[39;00m resolver\u001b[38;5;241m.\u001b[39mDownloadManager(handle)\u001b[38;5;241m.\u001b[39mdownload_and_uncompress(\n\u001b[1;32m     79\u001b[0m     response, tmp_dir)\n",
            "File \u001b[0;32m~/miniconda3/lib/python3.12/site-packages/tensorflow_hub/resolver.py:528\u001b[0m, in \u001b[0;36mHttpResolverBase._call_urlopen\u001b[0;34m(self, request)\u001b[0m\n\u001b[1;32m    526\u001b[0m   \u001b[38;5;28;01mreturn\u001b[39;00m urllib\u001b[38;5;241m.\u001b[39mrequest\u001b[38;5;241m.\u001b[39murlopen(request)\n\u001b[1;32m    527\u001b[0m \u001b[38;5;28;01melse\u001b[39;00m:\n\u001b[0;32m--> 528\u001b[0m   \u001b[38;5;28;01mreturn\u001b[39;00m \u001b[43murllib\u001b[49m\u001b[38;5;241;43m.\u001b[39;49m\u001b[43mrequest\u001b[49m\u001b[38;5;241;43m.\u001b[39;49m\u001b[43murlopen\u001b[49m\u001b[43m(\u001b[49m\u001b[43mrequest\u001b[49m\u001b[43m,\u001b[49m\u001b[43m \u001b[49m\u001b[43mcontext\u001b[49m\u001b[38;5;241;43m=\u001b[39;49m\u001b[38;5;28;43mself\u001b[39;49m\u001b[38;5;241;43m.\u001b[39;49m\u001b[43m_context\u001b[49m\u001b[43m)\u001b[49m\n",
            "File \u001b[0;32m~/miniconda3/lib/python3.12/urllib/request.py:215\u001b[0m, in \u001b[0;36murlopen\u001b[0;34m(url, data, timeout, cafile, capath, cadefault, context)\u001b[0m\n\u001b[1;32m    213\u001b[0m \u001b[38;5;28;01melse\u001b[39;00m:\n\u001b[1;32m    214\u001b[0m     opener \u001b[38;5;241m=\u001b[39m _opener\n\u001b[0;32m--> 215\u001b[0m \u001b[38;5;28;01mreturn\u001b[39;00m \u001b[43mopener\u001b[49m\u001b[38;5;241;43m.\u001b[39;49m\u001b[43mopen\u001b[49m\u001b[43m(\u001b[49m\u001b[43murl\u001b[49m\u001b[43m,\u001b[49m\u001b[43m \u001b[49m\u001b[43mdata\u001b[49m\u001b[43m,\u001b[49m\u001b[43m \u001b[49m\u001b[43mtimeout\u001b[49m\u001b[43m)\u001b[49m\n",
            "File \u001b[0;32m~/miniconda3/lib/python3.12/urllib/request.py:515\u001b[0m, in \u001b[0;36mOpenerDirector.open\u001b[0;34m(self, fullurl, data, timeout)\u001b[0m\n\u001b[1;32m    512\u001b[0m     req \u001b[38;5;241m=\u001b[39m meth(req)\n\u001b[1;32m    514\u001b[0m sys\u001b[38;5;241m.\u001b[39maudit(\u001b[38;5;124m'\u001b[39m\u001b[38;5;124murllib.Request\u001b[39m\u001b[38;5;124m'\u001b[39m, req\u001b[38;5;241m.\u001b[39mfull_url, req\u001b[38;5;241m.\u001b[39mdata, req\u001b[38;5;241m.\u001b[39mheaders, req\u001b[38;5;241m.\u001b[39mget_method())\n\u001b[0;32m--> 515\u001b[0m response \u001b[38;5;241m=\u001b[39m \u001b[38;5;28;43mself\u001b[39;49m\u001b[38;5;241;43m.\u001b[39;49m\u001b[43m_open\u001b[49m\u001b[43m(\u001b[49m\u001b[43mreq\u001b[49m\u001b[43m,\u001b[49m\u001b[43m \u001b[49m\u001b[43mdata\u001b[49m\u001b[43m)\u001b[49m\n\u001b[1;32m    517\u001b[0m \u001b[38;5;66;03m# post-process response\u001b[39;00m\n\u001b[1;32m    518\u001b[0m meth_name \u001b[38;5;241m=\u001b[39m protocol\u001b[38;5;241m+\u001b[39m\u001b[38;5;124m\"\u001b[39m\u001b[38;5;124m_response\u001b[39m\u001b[38;5;124m\"\u001b[39m\n",
            "File \u001b[0;32m~/miniconda3/lib/python3.12/urllib/request.py:532\u001b[0m, in \u001b[0;36mOpenerDirector._open\u001b[0;34m(self, req, data)\u001b[0m\n\u001b[1;32m    529\u001b[0m     \u001b[38;5;28;01mreturn\u001b[39;00m result\n\u001b[1;32m    531\u001b[0m protocol \u001b[38;5;241m=\u001b[39m req\u001b[38;5;241m.\u001b[39mtype\n\u001b[0;32m--> 532\u001b[0m result \u001b[38;5;241m=\u001b[39m \u001b[38;5;28;43mself\u001b[39;49m\u001b[38;5;241;43m.\u001b[39;49m\u001b[43m_call_chain\u001b[49m\u001b[43m(\u001b[49m\u001b[38;5;28;43mself\u001b[39;49m\u001b[38;5;241;43m.\u001b[39;49m\u001b[43mhandle_open\u001b[49m\u001b[43m,\u001b[49m\u001b[43m \u001b[49m\u001b[43mprotocol\u001b[49m\u001b[43m,\u001b[49m\u001b[43m \u001b[49m\u001b[43mprotocol\u001b[49m\u001b[43m \u001b[49m\u001b[38;5;241;43m+\u001b[39;49m\n\u001b[1;32m    533\u001b[0m \u001b[43m                          \u001b[49m\u001b[38;5;124;43m'\u001b[39;49m\u001b[38;5;124;43m_open\u001b[39;49m\u001b[38;5;124;43m'\u001b[39;49m\u001b[43m,\u001b[49m\u001b[43m \u001b[49m\u001b[43mreq\u001b[49m\u001b[43m)\u001b[49m\n\u001b[1;32m    534\u001b[0m \u001b[38;5;28;01mif\u001b[39;00m result:\n\u001b[1;32m    535\u001b[0m     \u001b[38;5;28;01mreturn\u001b[39;00m result\n",
            "File \u001b[0;32m~/miniconda3/lib/python3.12/urllib/request.py:492\u001b[0m, in \u001b[0;36mOpenerDirector._call_chain\u001b[0;34m(self, chain, kind, meth_name, *args)\u001b[0m\n\u001b[1;32m    490\u001b[0m \u001b[38;5;28;01mfor\u001b[39;00m handler \u001b[38;5;129;01min\u001b[39;00m handlers:\n\u001b[1;32m    491\u001b[0m     func \u001b[38;5;241m=\u001b[39m \u001b[38;5;28mgetattr\u001b[39m(handler, meth_name)\n\u001b[0;32m--> 492\u001b[0m     result \u001b[38;5;241m=\u001b[39m \u001b[43mfunc\u001b[49m\u001b[43m(\u001b[49m\u001b[38;5;241;43m*\u001b[39;49m\u001b[43margs\u001b[49m\u001b[43m)\u001b[49m\n\u001b[1;32m    493\u001b[0m     \u001b[38;5;28;01mif\u001b[39;00m result \u001b[38;5;129;01mis\u001b[39;00m \u001b[38;5;129;01mnot\u001b[39;00m \u001b[38;5;28;01mNone\u001b[39;00m:\n\u001b[1;32m    494\u001b[0m         \u001b[38;5;28;01mreturn\u001b[39;00m result\n",
            "File \u001b[0;32m~/miniconda3/lib/python3.12/urllib/request.py:1392\u001b[0m, in \u001b[0;36mHTTPSHandler.https_open\u001b[0;34m(self, req)\u001b[0m\n\u001b[1;32m   1391\u001b[0m \u001b[38;5;28;01mdef\u001b[39;00m \u001b[38;5;21mhttps_open\u001b[39m(\u001b[38;5;28mself\u001b[39m, req):\n\u001b[0;32m-> 1392\u001b[0m     \u001b[38;5;28;01mreturn\u001b[39;00m \u001b[38;5;28;43mself\u001b[39;49m\u001b[38;5;241;43m.\u001b[39;49m\u001b[43mdo_open\u001b[49m\u001b[43m(\u001b[49m\u001b[43mhttp\u001b[49m\u001b[38;5;241;43m.\u001b[39;49m\u001b[43mclient\u001b[49m\u001b[38;5;241;43m.\u001b[39;49m\u001b[43mHTTPSConnection\u001b[49m\u001b[43m,\u001b[49m\u001b[43m \u001b[49m\u001b[43mreq\u001b[49m\u001b[43m,\u001b[49m\n\u001b[1;32m   1393\u001b[0m \u001b[43m                        \u001b[49m\u001b[43mcontext\u001b[49m\u001b[38;5;241;43m=\u001b[39;49m\u001b[38;5;28;43mself\u001b[39;49m\u001b[38;5;241;43m.\u001b[39;49m\u001b[43m_context\u001b[49m\u001b[43m)\u001b[49m\n",
            "File \u001b[0;32m~/miniconda3/lib/python3.12/urllib/request.py:1347\u001b[0m, in \u001b[0;36mAbstractHTTPHandler.do_open\u001b[0;34m(self, http_class, req, **http_conn_args)\u001b[0m\n\u001b[1;32m   1344\u001b[0m         h\u001b[38;5;241m.\u001b[39mrequest(req\u001b[38;5;241m.\u001b[39mget_method(), req\u001b[38;5;241m.\u001b[39mselector, req\u001b[38;5;241m.\u001b[39mdata, headers,\n\u001b[1;32m   1345\u001b[0m                   encode_chunked\u001b[38;5;241m=\u001b[39mreq\u001b[38;5;241m.\u001b[39mhas_header(\u001b[38;5;124m'\u001b[39m\u001b[38;5;124mTransfer-encoding\u001b[39m\u001b[38;5;124m'\u001b[39m))\n\u001b[1;32m   1346\u001b[0m     \u001b[38;5;28;01mexcept\u001b[39;00m \u001b[38;5;167;01mOSError\u001b[39;00m \u001b[38;5;28;01mas\u001b[39;00m err: \u001b[38;5;66;03m# timeout error\u001b[39;00m\n\u001b[0;32m-> 1347\u001b[0m         \u001b[38;5;28;01mraise\u001b[39;00m URLError(err)\n\u001b[1;32m   1348\u001b[0m     r \u001b[38;5;241m=\u001b[39m h\u001b[38;5;241m.\u001b[39mgetresponse()\n\u001b[1;32m   1349\u001b[0m \u001b[38;5;28;01mexcept\u001b[39;00m:\n",
            "\u001b[0;31mURLError\u001b[0m: <urlopen error [Errno -3] Temporary failure in name resolution>"
          ]
        }
      ],
      "source": [
        "import tensorflow as tf\n",
        "import tensorflow_hub as hub\n",
        "\n",
        "import requests\n",
        "import numpy as np\n",
        "from typing import Generator, Iterable, List, Optional\n",
        "import mediapy as media\n",
        "\n",
        "model = hub.load(\"film-tensorflow2-film-v1\")\n",
        "\n",
        "\n",
        "_UINT8_MAX_F = float(np.iinfo(np.uint8).max)\n",
        "\n",
        "def load_image(img_url: str):\n",
        "    \"\"\"Returns an image with shape [height, width, num_channels], with pixels in [0..1] range, and type np.float32.\"\"\"\n",
        "\n",
        "    if (img_url.startswith(\"https\")):\n",
        "        user_agent = {'User-agent': 'Colab Sample (https://tensorflow.org)'}\n",
        "        response = requests.get(img_url, headers=user_agent)\n",
        "        image_data = response.content\n",
        "    else:\n",
        "        image_data = tf.io.read_file(img_url)\n",
        "\n",
        "    image = tf.io.decode_image(image_data, channels=3)\n",
        "    image_numpy = tf.cast(image, dtype=tf.float32).numpy()\n",
        "    return image_numpy / _UINT8_MAX_F\n",
        "\n",
        "\n",
        "# using images from the FILM repository (https://github.com/google-research/frame-interpolation/)\n",
        "\n",
        "image_1_url = \"1.png\"#\"https://github.com/google-research/frame-interpolation/blob/main/photos/one.png?raw=true\"\n",
        "image_2_url = \"2.png\"#\"https://github.com/google-research/frame-interpolation/blob/main/photos/two.png?raw=true\"\n",
        "\n",
        "time = np.array([0.5], dtype=np.float32)\n",
        "\n",
        "image1 = load_image(image_1_url)\n",
        "image2 = load_image(image_2_url)\n",
        "\n",
        "\n",
        "# input = {\n",
        "#     'time': np.expand_dims(time, axis=0), # adding the batch dimension to the time\n",
        "#      'x0': np.expand_dims(image1, axis=0), # adding the batch dimension to the image\n",
        "#      'x1': np.expand_dims(image2, axis=0)  # adding the batch dimension to the image\n",
        "# }\n",
        "\n",
        "# mid_frame = model(input)\n",
        "\n",
        "# print(mid_frame.keys())\n",
        "\n",
        "# frames = [image1, mid_frame['image'][0].numpy(), image2]\n",
        "\n",
        "# media.show_images(frames, titles=['input image one', 'generated image', 'input image two'], height=250)\n",
        "\n",
        "\n",
        "# media.show_video(frames, fps=3, title='FILM interpolated video')\n",
        "\n",
        "\"\"\"A wrapper class for running a frame interpolation based on the FILM model on TFHub\n",
        "\n",
        "Usage:\n",
        "  interpolator = Interpolator()\n",
        "  result_batch = interpolator(image_batch_0, image_batch_1, batch_dt)\n",
        "  Where image_batch_1 and image_batch_2 are numpy tensors with TF standard\n",
        "  (B,H,W,C) layout, batch_dt is the sub-frame time in range [0..1], (B,) layout.\n",
        "\"\"\"\n",
        "\n",
        "\n",
        "def _pad_to_align(x, align):\n",
        "  \"\"\"Pads image batch x so width and height divide by align.\n",
        "\n",
        "  Args:\n",
        "    x: Image batch to align.\n",
        "    align: Number to align to.\n",
        "\n",
        "  Returns:\n",
        "    1) An image padded so width % align == 0 and height % align == 0.\n",
        "    2) A bounding box that can be fed readily to tf.image.crop_to_bounding_box\n",
        "      to undo the padding.\n",
        "  \"\"\"\n",
        "  # Input checking.\n",
        "  assert np.ndim(x) == 4\n",
        "  assert align > 0, 'align must be a positive number.'\n",
        "\n",
        "  height, width = x.shape[-3:-1]\n",
        "  height_to_pad = (align - height % align) if height % align != 0 else 0\n",
        "  width_to_pad = (align - width % align) if width % align != 0 else 0\n",
        "\n",
        "  bbox_to_pad = {\n",
        "      'offset_height': height_to_pad // 2,\n",
        "      'offset_width': width_to_pad // 2,\n",
        "      'target_height': height + height_to_pad,\n",
        "      'target_width': width + width_to_pad\n",
        "  }\n",
        "  padded_x = tf.image.pad_to_bounding_box(x, **bbox_to_pad)\n",
        "  bbox_to_crop = {\n",
        "      'offset_height': height_to_pad // 2,\n",
        "      'offset_width': width_to_pad // 2,\n",
        "      'target_height': height,\n",
        "      'target_width': width\n",
        "  }\n",
        "  return padded_x, bbox_to_crop\n",
        "\n",
        "\n",
        "class Interpolator:\n",
        "  \"\"\"A class for generating interpolated frames between two input frames.\n",
        "\n",
        "  Uses the Film model from TFHub\n",
        "  \"\"\"\n",
        "\n",
        "  def __init__(self, align: int = 64) -> None:\n",
        "    \"\"\"Loads a saved model.\n",
        "\n",
        "    Args:\n",
        "      align: 'If >1, pad the input size so it divides with this before\n",
        "        inference.'\n",
        "    \"\"\"\n",
        "    self._model = hub.load(\"https://tfhub.dev/google/film/1\")\n",
        "    self._align = align\n",
        "\n",
        "  def __call__(self, x0: np.ndarray, x1: np.ndarray,\n",
        "               dt: np.ndarray) -> np.ndarray:\n",
        "    \"\"\"Generates an interpolated frame between given two batches of frames.\n",
        "\n",
        "    All inputs should be np.float32 datatype.\n",
        "\n",
        "    Args:\n",
        "      x0: First image batch. Dimensions: (batch_size, height, width, channels)\n",
        "      x1: Second image batch. Dimensions: (batch_size, height, width, channels)\n",
        "      dt: Sub-frame time. Range [0,1]. Dimensions: (batch_size,)\n",
        "\n",
        "    Returns:\n",
        "      The result with dimensions (batch_size, height, width, channels).\n",
        "    \"\"\"\n",
        "    if self._align is not None:\n",
        "      x0, bbox_to_crop = _pad_to_align(x0, self._align)\n",
        "      x1, _ = _pad_to_align(x1, self._align)\n",
        "\n",
        "    inputs = {'x0': x0, 'x1': x1, 'time': dt[..., np.newaxis]}\n",
        "    result = self._model(inputs, training=False)\n",
        "    image = result['image']\n",
        "\n",
        "    if self._align is not None:\n",
        "      image = tf.image.crop_to_bounding_box(image, **bbox_to_crop)\n",
        "    return image.numpy()\n",
        "\n",
        "def _recursive_generator(\n",
        "    frame1: np.ndarray, frame2: np.ndarray, num_recursions: int,\n",
        "    interpolator: Interpolator) -> Generator[np.ndarray, None, None]:\n",
        "  \"\"\"Splits halfway to repeatedly generate more frames.\n",
        "\n",
        "  Args:\n",
        "    frame1: Input image 1.\n",
        "    frame2: Input image 2.\n",
        "    num_recursions: How many times to interpolate the consecutive image pairs.\n",
        "    interpolator: The frame interpolator instance.\n",
        "\n",
        "  Yields:\n",
        "    The interpolated frames, including the first frame (frame1), but excluding\n",
        "    the final frame2.\n",
        "  \"\"\"\n",
        "  if num_recursions == 0:\n",
        "    yield frame1\n",
        "  else:\n",
        "    # Adds the batch dimension to all inputs before calling the interpolator,\n",
        "    # and remove it afterwards.\n",
        "    time = np.full(shape=(1,), fill_value=0.5, dtype=np.float32)\n",
        "    mid_frame = interpolator(\n",
        "        np.expand_dims(frame1, axis=0), np.expand_dims(frame2, axis=0), time)[0]\n",
        "    yield from _recursive_generator(frame1, mid_frame, num_recursions - 1,\n",
        "                                    interpolator)\n",
        "    yield from _recursive_generator(mid_frame, frame2, num_recursions - 1,\n",
        "                                    interpolator)\n",
        "\n",
        "def interpolate_recursively(\n",
        "    frames: List[np.ndarray], num_recursions: int,\n",
        "    interpolator: Interpolator) -> Iterable[np.ndarray]:\n",
        "    \"\"\"Generates interpolated frames by repeatedly interpolating the midpoint.\n",
        "\n",
        "    Args:\n",
        "        frames: List of input frames. Expected shape (H, W, 3). The colors should be\n",
        "        in the range[0, 1] and in gamma space.\n",
        "        num_recursions: Number of times to do recursive midpoint\n",
        "        interpolation.\n",
        "        interpolator: The frame interpolation model to use.\n",
        "\n",
        "    Yields:\n",
        "        The interpolated frames (including the inputs).\n",
        "    \"\"\"\n",
        "    n = len(frames)\n",
        "    for i in range(1, n):\n",
        "        yield from _recursive_generator(frames[i - 1], frames[i],\n",
        "                                        times_to_interpolate, interpolator)\n",
        "    # Separately yield the final frame.\n",
        "    yield frames[-1]\n",
        "\n",
        "\n",
        "times_to_interpolate = 2\n",
        "interpolator = Interpolator()\n",
        "\n",
        "\n",
        "input_frames = [image1, image2]\n",
        "frames = list(\n",
        "    interpolate_recursively(input_frames, times_to_interpolate,\n",
        "                                        interpolator))\n",
        "\n",
        "print(f'video with {len(frames)} frames')\n",
        "media.show_video(frames, fps=30, title='FILM interpolated video')\n",
        "\n",
        "\n"
      ]
    },
    {
      "cell_type": "code",
      "execution_count": 27,
      "metadata": {},
      "outputs": [
        {
          "data": {
            "text/plain": [
              "numpy.ndarray"
            ]
          },
          "execution_count": 27,
          "metadata": {},
          "output_type": "execute_result"
        }
      ],
      "source": [
        "type(image1)"
      ]
    },
    {
      "cell_type": "code",
      "execution_count": null,
      "metadata": {},
      "outputs": [],
      "source": []
    }
  ],
  "metadata": {
    "accelerator": "GPU",
    "colab": {
      "name": "tf_hub_film_example.ipynb",
      "provenance": []
    },
    "kernelspec": {
      "display_name": "Python 3",
      "name": "python3"
    },
    "language_info": {
      "codemirror_mode": {
        "name": "ipython",
        "version": 3
      },
      "file_extension": ".py",
      "mimetype": "text/x-python",
      "name": "python",
      "nbconvert_exporter": "python",
      "pygments_lexer": "ipython3",
      "version": "3.12.2"
    }
  },
  "nbformat": 4,
  "nbformat_minor": 0
}
